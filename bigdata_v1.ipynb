{
  "cells": [
    {
      "cell_type": "markdown",
      "metadata": {
        "id": "view-in-github",
        "colab_type": "text"
      },
      "source": [
        "<a href=\"https://colab.research.google.com/github/abuqaiselegant/BigData/blob/main/bigdata_v1.ipynb\" target=\"_parent\"><img src=\"https://colab.research.google.com/assets/colab-badge.svg\" alt=\"Open In Colab\"/></a>"
      ]
    },
    {
      "cell_type": "markdown",
      "source": [
        "**End-to-end Spark pipeline: load and explore data, encode features, and apply class balancing via undersampling and multiple SMOTE-BD variants (standard, borderline, adaptive, exact)  \n",
        "Result: a shuffled, balanced DataFrame with assembled feature vectors ready for model training**\n",
        "\n",
        "Abu Qais, Harsh Moradiya, Muneeb Amer, Mohd Ali Tahir"
      ],
      "metadata": {
        "id": "9_T8bUmLAkOa"
      }
    },
    {
      "cell_type": "markdown",
      "source": [
        "\n",
        "\n",
        "Imports for data handling , visualization , model evaluation , class imbalance handling (SMOTENC), and ML pipeline construction with Spark (StringIndexer, VectorAssembler, GBTClassifier, Pipeline, BinaryClassificationEvaluator).\n"
      ],
      "metadata": {
        "id": "T4WMdbuawpTU"
      }
    },
    {
      "cell_type": "code",
      "execution_count": 32,
      "metadata": {
        "id": "tONxzNFNPeSE"
      },
      "outputs": [],
      "source": [
        "#imports\n",
        "import pandas as pd\n",
        "import matplotlib.pyplot as plt\n",
        "import seaborn as sns\n",
        "import numpy as np\n",
        "from sklearn.metrics import confusion_matrix\n",
        "from sklearn.metrics import classification_report , roc_curve, auc\n",
        "from time import time\n",
        "\n",
        "\n",
        "from imblearn.over_sampling import SMOTENC\n",
        "import matplotlib.pyplot as plt\n",
        "from pyspark.sql.functions import col, concat_ws, floor\n",
        "from pyspark.sql.functions import spark_partition_id\n",
        "#ML imports\n",
        "from pyspark.ml.feature import StringIndexer, VectorAssembler\n",
        "from pyspark.ml.classification import GBTClassifier\n",
        "from pyspark.ml import Pipeline\n",
        "from pyspark.ml.feature import OneHotEncoder\n",
        "\n",
        "from pyspark.ml.evaluation import BinaryClassificationEvaluator"
      ]
    },
    {
      "cell_type": "markdown",
      "metadata": {
        "id": "pIen-_N_hPi6"
      },
      "source": [
        "\n",
        "# Initialize a local SparkSession named \"BD\" and retrieve its SparkContext for distributed data processing.\n"
      ]
    },
    {
      "cell_type": "code",
      "execution_count": 3,
      "metadata": {
        "id": "1babSpIZFiSO"
      },
      "outputs": [],
      "source": [
        "from pyspark.sql import SparkSession\n",
        "spark = SparkSession \\\n",
        "    .builder \\\n",
        "    .master(\"local[*]\") \\\n",
        "    .appName(\"BD\") \\\n",
        "    .getOrCreate()\n",
        "\n",
        "sc = spark.sparkContext"
      ]
    },
    {
      "cell_type": "code",
      "execution_count": 4,
      "metadata": {
        "colab": {
          "base_uri": "https://localhost:8080/",
          "height": 219
        },
        "id": "PujAhyf-GHYM",
        "outputId": "1e6baf54-36f8-4df4-c5a1-c101c9488348"
      },
      "outputs": [
        {
          "output_type": "execute_result",
          "data": {
            "text/plain": [
              "<pyspark.sql.session.SparkSession at 0x7d6a814ce850>"
            ],
            "text/html": [
              "\n",
              "            <div>\n",
              "                <p><b>SparkSession - in-memory</b></p>\n",
              "                \n",
              "        <div>\n",
              "            <p><b>SparkContext</b></p>\n",
              "\n",
              "            <p><a href=\"http://bbf597b083ad:4040\">Spark UI</a></p>\n",
              "\n",
              "            <dl>\n",
              "              <dt>Version</dt>\n",
              "                <dd><code>v3.5.1</code></dd>\n",
              "              <dt>Master</dt>\n",
              "                <dd><code>local[*]</code></dd>\n",
              "              <dt>AppName</dt>\n",
              "                <dd><code>BD</code></dd>\n",
              "            </dl>\n",
              "        </div>\n",
              "        \n",
              "            </div>\n",
              "        "
            ]
          },
          "metadata": {},
          "execution_count": 4
        }
      ],
      "source": [
        "spark"
      ]
    },
    {
      "cell_type": "markdown",
      "source": [
        "\n",
        "# Load the CSV file 'diabetic_data.csv' into a Spark DataFrame named df.\n"
      ],
      "metadata": {
        "id": "6mfmZJg7w9Mv"
      }
    },
    {
      "cell_type": "code",
      "execution_count": 5,
      "metadata": {
        "id": "Vl_UI7e0GHol"
      },
      "outputs": [],
      "source": [
        "df = spark.read.csv('/content/diabetic_data.csv')"
      ]
    },
    {
      "cell_type": "code",
      "execution_count": 6,
      "metadata": {
        "colab": {
          "base_uri": "https://localhost:8080/"
        },
        "id": "3pjJWf05GHuj",
        "outputId": "e647d483-d4c7-4119-9e5f-f1ccb24e669d"
      },
      "outputs": [
        {
          "output_type": "stream",
          "name": "stdout",
          "text": [
            "+------------+-----------+---------------+------+--------+------+-----------------+--------------------+-------------------+----------------+----------+--------------------+------------------+--------------+---------------+-----------------+----------------+----------------+------+------+------+----------------+-------------+---------+---------+-----------+-----------+--------------+-----------+-------------+---------+---------+-----------+------------+-------------+--------+--------+------------+----------+-------+-----------+-------+-------------------+-------------------+--------------------+--------------------+--------------------+------+-----------+----------+\n",
            "|         _c0|        _c1|            _c2|   _c3|     _c4|   _c5|              _c6|                 _c7|                _c8|             _c9|      _c10|                _c11|              _c12|          _c13|           _c14|             _c15|            _c16|            _c17|  _c18|  _c19|  _c20|            _c21|         _c22|     _c23|     _c24|       _c25|       _c26|          _c27|       _c28|         _c29|     _c30|     _c31|       _c32|        _c33|         _c34|    _c35|    _c36|        _c37|      _c38|   _c39|       _c40|   _c41|               _c42|               _c43|                _c44|                _c45|                _c46|  _c47|       _c48|      _c49|\n",
            "+------------+-----------+---------------+------+--------+------+-----------------+--------------------+-------------------+----------------+----------+--------------------+------------------+--------------+---------------+-----------------+----------------+----------------+------+------+------+----------------+-------------+---------+---------+-----------+-----------+--------------+-----------+-------------+---------+---------+-----------+------------+-------------+--------+--------+------------+----------+-------+-----------+-------+-------------------+-------------------+--------------------+--------------------+--------------------+------+-----------+----------+\n",
            "|encounter_id|patient_nbr|           race|gender|     age|weight|admission_type_id|discharge_disposi...|admission_source_id|time_in_hospital|payer_code|   medical_specialty|num_lab_procedures|num_procedures|num_medications|number_outpatient|number_emergency|number_inpatient|diag_1|diag_2|diag_3|number_diagnoses|max_glu_serum|A1Cresult|metformin|repaglinide|nateglinide|chlorpropamide|glimepiride|acetohexamide|glipizide|glyburide|tolbutamide|pioglitazone|rosiglitazone|acarbose|miglitol|troglitazone|tolazamide|examide|citoglipton|insulin|glyburide-metformin|glipizide-metformin|glimepiride-piogl...|metformin-rosigli...|metformin-pioglit...|change|diabetesMed|readmitted|\n",
            "|     2278392|    8222157|      Caucasian|Female|  [0-10)|     ?|                6|                  25|                  1|               1|         ?|Pediatrics-Endocr...|                41|             0|              1|                0|               0|               0|250.83|     ?|     ?|               1|         None|     None|       No|         No|         No|            No|         No|           No|       No|       No|         No|          No|           No|      No|      No|          No|        No|     No|         No|     No|                 No|                 No|                  No|                  No|                  No|    No|         No|        NO|\n",
            "|      149190|   55629189|      Caucasian|Female| [10-20)|     ?|                1|                   1|                  7|               3|         ?|                   ?|                59|             0|             18|                0|               0|               0|   276|250.01|   255|               9|         None|     None|       No|         No|         No|            No|         No|           No|       No|       No|         No|          No|           No|      No|      No|          No|        No|     No|         No|     Up|                 No|                 No|                  No|                  No|                  No|    Ch|        Yes|       >30|\n",
            "|       64410|   86047875|AfricanAmerican|Female| [20-30)|     ?|                1|                   1|                  7|               2|         ?|                   ?|                11|             5|             13|                2|               0|               1|   648|   250|   V27|               6|         None|     None|       No|         No|         No|            No|         No|           No|   Steady|       No|         No|          No|           No|      No|      No|          No|        No|     No|         No|     No|                 No|                 No|                  No|                  No|                  No|    No|        Yes|        NO|\n",
            "|      500364|   82442376|      Caucasian|  Male| [30-40)|     ?|                1|                   1|                  7|               2|         ?|                   ?|                44|             1|             16|                0|               0|               0|     8|250.43|   403|               7|         None|     None|       No|         No|         No|            No|         No|           No|       No|       No|         No|          No|           No|      No|      No|          No|        No|     No|         No|     Up|                 No|                 No|                  No|                  No|                  No|    Ch|        Yes|        NO|\n",
            "|       16680|   42519267|      Caucasian|  Male| [40-50)|     ?|                1|                   1|                  7|               1|         ?|                   ?|                51|             0|              8|                0|               0|               0|   197|   157|   250|               5|         None|     None|       No|         No|         No|            No|         No|           No|   Steady|       No|         No|          No|           No|      No|      No|          No|        No|     No|         No| Steady|                 No|                 No|                  No|                  No|                  No|    Ch|        Yes|        NO|\n",
            "|       35754|   82637451|      Caucasian|  Male| [50-60)|     ?|                2|                   1|                  2|               3|         ?|                   ?|                31|             6|             16|                0|               0|               0|   414|   411|   250|               9|         None|     None|       No|         No|         No|            No|         No|           No|       No|       No|         No|          No|           No|      No|      No|          No|        No|     No|         No| Steady|                 No|                 No|                  No|                  No|                  No|    No|        Yes|       >30|\n",
            "|       55842|   84259809|      Caucasian|  Male| [60-70)|     ?|                3|                   1|                  2|               4|         ?|                   ?|                70|             1|             21|                0|               0|               0|   414|   411|   V45|               7|         None|     None|   Steady|         No|         No|            No|     Steady|           No|       No|       No|         No|          No|           No|      No|      No|          No|        No|     No|         No| Steady|                 No|                 No|                  No|                  No|                  No|    Ch|        Yes|        NO|\n",
            "|       63768|  114882984|      Caucasian|  Male| [70-80)|     ?|                1|                   1|                  7|               5|         ?|                   ?|                73|             0|             12|                0|               0|               0|   428|   492|   250|               8|         None|     None|       No|         No|         No|            No|         No|           No|       No|   Steady|         No|          No|           No|      No|      No|          No|        No|     No|         No|     No|                 No|                 No|                  No|                  No|                  No|    No|        Yes|       >30|\n",
            "|       12522|   48330783|      Caucasian|Female| [80-90)|     ?|                2|                   1|                  4|              13|         ?|                   ?|                68|             2|             28|                0|               0|               0|   398|   427|    38|               8|         None|     None|       No|         No|         No|            No|         No|           No|   Steady|       No|         No|          No|           No|      No|      No|          No|        No|     No|         No| Steady|                 No|                 No|                  No|                  No|                  No|    Ch|        Yes|        NO|\n",
            "|       15738|   63555939|      Caucasian|Female|[90-100)|     ?|                3|                   3|                  4|              12|         ?|    InternalMedicine|                33|             3|             18|                0|               0|               0|   434|   198|   486|               8|         None|     None|       No|         No|         No|            No|         No|           No|       No|       No|         No|          No|       Steady|      No|      No|          No|        No|     No|         No| Steady|                 No|                 No|                  No|                  No|                  No|    Ch|        Yes|        NO|\n",
            "|       28236|   89869032|AfricanAmerican|Female| [40-50)|     ?|                1|                   1|                  7|               9|         ?|                   ?|                47|             2|             17|                0|               0|               0| 250.7|   403|   996|               9|         None|     None|       No|         No|         No|            No|         No|           No|       No|       No|         No|          No|           No|      No|      No|          No|        No|     No|         No| Steady|                 No|                 No|                  No|                  No|                  No|    No|        Yes|       >30|\n",
            "|       36900|   77391171|AfricanAmerican|  Male| [60-70)|     ?|                2|                   1|                  4|               7|         ?|                   ?|                62|             0|             11|                0|               0|               0|   157|   288|   197|               7|         None|     None|       No|         No|         No|            No|         No|           No|       No|       Up|         No|          No|           No|      No|      No|          No|        No|     No|         No| Steady|                 No|                 No|                  No|                  No|                  No|    Ch|        Yes|       <30|\n",
            "|       40926|   85504905|      Caucasian|Female| [40-50)|     ?|                1|                   3|                  7|               7|         ?|Family/GeneralPra...|                60|             0|             15|                0|               1|               0|   428|250.43| 250.6|               8|         None|     None|   Steady|         Up|         No|            No|         No|           No|       No|       No|         No|          No|           No|      No|      No|          No|        No|     No|         No|   Down|                 No|                 No|                  No|                  No|                  No|    Ch|        Yes|       <30|\n",
            "|       42570|   77586282|      Caucasian|  Male| [80-90)|     ?|                1|                   6|                  7|              10|         ?|Family/GeneralPra...|                55|             1|             31|                0|               0|               0|   428|   411|   427|               8|         None|     None|       No|         No|         No|            No|         No|           No|       No|       No|         No|          No|           No|      No|      No|          No|        No|     No|         No| Steady|                 No|                 No|                  No|                  No|                  No|    No|        Yes|        NO|\n",
            "|       62256|   49726791|AfricanAmerican|Female| [60-70)|     ?|                3|                   1|                  2|               1|         ?|                   ?|                49|             5|              2|                0|               0|               0|   518|   998|   627|               8|         None|     None|       No|         No|         No|            No|         No|           No|       No|       No|         No|          No|           No|      No|      No|          No|        No|     No|         No| Steady|                 No|                 No|                  No|                  No|                  No|    No|        Yes|       >30|\n",
            "|       73578|   86328819|AfricanAmerican|  Male| [60-70)|     ?|                1|                   3|                  7|              12|         ?|                   ?|                75|             5|             13|                0|               0|               0|   999|   507|   996|               9|         None|     None|       No|         No|         No|            No|         No|           No|       No|       No|         No|          No|           No|      No|      No|          No|        No|     No|         No|     Up|                 No|                 No|                  No|                  No|                  No|    Ch|        Yes|        NO|\n",
            "|       77076|   92519352|AfricanAmerican|  Male| [50-60)|     ?|                1|                   1|                  7|               4|         ?|                   ?|                45|             4|             17|                0|               0|               0|   410|   411|   414|               8|         None|     None|       No|         No|         No|            No|         No|           No|   Steady|       No|         No|          No|           No|      No|      No|          No|        No|     No|         No| Steady|                 No|                 No|                  No|                  No|                  No|    Ch|        Yes|       <30|\n",
            "|       84222|  108662661|      Caucasian|Female| [50-60)|     ?|                1|                   1|                  7|               3|         ?|          Cardiology|                29|             0|             11|                0|               0|               0|   682|   174|   250|               3|         None|     None|       No|         No|         No|            No|         No|           No|       No|   Steady|         No|          No|           No|      No|      No|          No|        No|     No|         No|     No|                 No|                 No|                  No|                  No|                  No|    No|        Yes|        NO|\n",
            "|       89682|  107389323|AfricanAmerican|  Male| [70-80)|     ?|                1|                   1|                  7|               5|         ?|                   ?|                35|             5|             23|                0|               0|               0|   402|   425|   416|               9|         None|     None|       No|         No|         No|            No|         No|           No|       No|       No|         No|          No|           No|      No|      No|          No|        No|     No|         No| Steady|                 No|                 No|                  No|                  No|                  No|    No|        Yes|       >30|\n",
            "+------------+-----------+---------------+------+--------+------+-----------------+--------------------+-------------------+----------------+----------+--------------------+------------------+--------------+---------------+-----------------+----------------+----------------+------+------+------+----------------+-------------+---------+---------+-----------+-----------+--------------+-----------+-------------+---------+---------+-----------+------------+-------------+--------+--------+------------+----------+-------+-----------+-------+-------------------+-------------------+--------------------+--------------------+--------------------+------+-----------+----------+\n",
            "only showing top 20 rows\n",
            "\n"
          ]
        }
      ],
      "source": [
        "df.show()"
      ]
    },
    {
      "cell_type": "markdown",
      "source": [
        "# **Section 1: Preprocessing**\n",
        "\n",
        "# EDA: load data with header and inferred schema into Spark, rename ‘encounter_id’ to ‘id’, inspect schema and dataset dimensions, and analyze unique and missing values with sample distinct entries\n",
        "\n",
        "\n",
        "Assigned Member: Abu Qais and Mohd Ali Tahir\n",
        "\n"
      ],
      "metadata": {
        "id": "yWx3ETSDzWOM"
      }
    },
    {
      "cell_type": "code",
      "execution_count": 7,
      "metadata": {
        "colab": {
          "base_uri": "https://localhost:8080/"
        },
        "collapsed": true,
        "id": "q_BwqCZtGH_a",
        "outputId": "aba5c916-5716-45a2-ad9a-90f1e7208c86"
      },
      "outputs": [
        {
          "output_type": "stream",
          "name": "stdout",
          "text": [
            "+------------+-----------+---------------+------+--------+------+-----------------+------------------------+-------------------+----------------+----------+------------------------+------------------+--------------+---------------+-----------------+----------------+----------------+------+------+------+----------------+-------------+---------+---------+-----------+-----------+--------------+-----------+-------------+---------+---------+-----------+------------+-------------+--------+--------+------------+----------+-------+-----------+-------+-------------------+-------------------+------------------------+-----------------------+----------------------+------+-----------+----------+\n",
            "|encounter_id|patient_nbr|race           |gender|age     |weight|admission_type_id|discharge_disposition_id|admission_source_id|time_in_hospital|payer_code|medical_specialty       |num_lab_procedures|num_procedures|num_medications|number_outpatient|number_emergency|number_inpatient|diag_1|diag_2|diag_3|number_diagnoses|max_glu_serum|A1Cresult|metformin|repaglinide|nateglinide|chlorpropamide|glimepiride|acetohexamide|glipizide|glyburide|tolbutamide|pioglitazone|rosiglitazone|acarbose|miglitol|troglitazone|tolazamide|examide|citoglipton|insulin|glyburide-metformin|glipizide-metformin|glimepiride-pioglitazone|metformin-rosiglitazone|metformin-pioglitazone|change|diabetesMed|readmitted|\n",
            "+------------+-----------+---------------+------+--------+------+-----------------+------------------------+-------------------+----------------+----------+------------------------+------------------+--------------+---------------+-----------------+----------------+----------------+------+------+------+----------------+-------------+---------+---------+-----------+-----------+--------------+-----------+-------------+---------+---------+-----------+------------+-------------+--------+--------+------------+----------+-------+-----------+-------+-------------------+-------------------+------------------------+-----------------------+----------------------+------+-----------+----------+\n",
            "|2278392     |8222157    |Caucasian      |Female|[0-10)  |?     |6                |25                      |1                  |1               |?         |Pediatrics-Endocrinology|41                |0             |1              |0                |0               |0               |250.83|?     |?     |1               |None         |None     |No       |No         |No         |No            |No         |No           |No       |No       |No         |No          |No           |No      |No      |No          |No        |No     |No         |No     |No                 |No                 |No                      |No                     |No                    |No    |No         |NO        |\n",
            "|149190      |55629189   |Caucasian      |Female|[10-20) |?     |1                |1                       |7                  |3               |?         |?                       |59                |0             |18             |0                |0               |0               |276   |250.01|255   |9               |None         |None     |No       |No         |No         |No            |No         |No           |No       |No       |No         |No          |No           |No      |No      |No          |No        |No     |No         |Up     |No                 |No                 |No                      |No                     |No                    |Ch    |Yes        |>30       |\n",
            "|64410       |86047875   |AfricanAmerican|Female|[20-30) |?     |1                |1                       |7                  |2               |?         |?                       |11                |5             |13             |2                |0               |1               |648   |250   |V27   |6               |None         |None     |No       |No         |No         |No            |No         |No           |Steady   |No       |No         |No          |No           |No      |No      |No          |No        |No     |No         |No     |No                 |No                 |No                      |No                     |No                    |No    |Yes        |NO        |\n",
            "|500364      |82442376   |Caucasian      |Male  |[30-40) |?     |1                |1                       |7                  |2               |?         |?                       |44                |1             |16             |0                |0               |0               |8     |250.43|403   |7               |None         |None     |No       |No         |No         |No            |No         |No           |No       |No       |No         |No          |No           |No      |No      |No          |No        |No     |No         |Up     |No                 |No                 |No                      |No                     |No                    |Ch    |Yes        |NO        |\n",
            "|16680       |42519267   |Caucasian      |Male  |[40-50) |?     |1                |1                       |7                  |1               |?         |?                       |51                |0             |8              |0                |0               |0               |197   |157   |250   |5               |None         |None     |No       |No         |No         |No            |No         |No           |Steady   |No       |No         |No          |No           |No      |No      |No          |No        |No     |No         |Steady |No                 |No                 |No                      |No                     |No                    |Ch    |Yes        |NO        |\n",
            "|35754       |82637451   |Caucasian      |Male  |[50-60) |?     |2                |1                       |2                  |3               |?         |?                       |31                |6             |16             |0                |0               |0               |414   |411   |250   |9               |None         |None     |No       |No         |No         |No            |No         |No           |No       |No       |No         |No          |No           |No      |No      |No          |No        |No     |No         |Steady |No                 |No                 |No                      |No                     |No                    |No    |Yes        |>30       |\n",
            "|55842       |84259809   |Caucasian      |Male  |[60-70) |?     |3                |1                       |2                  |4               |?         |?                       |70                |1             |21             |0                |0               |0               |414   |411   |V45   |7               |None         |None     |Steady   |No         |No         |No            |Steady     |No           |No       |No       |No         |No          |No           |No      |No      |No          |No        |No     |No         |Steady |No                 |No                 |No                      |No                     |No                    |Ch    |Yes        |NO        |\n",
            "|63768       |114882984  |Caucasian      |Male  |[70-80) |?     |1                |1                       |7                  |5               |?         |?                       |73                |0             |12             |0                |0               |0               |428   |492   |250   |8               |None         |None     |No       |No         |No         |No            |No         |No           |No       |Steady   |No         |No          |No           |No      |No      |No          |No        |No     |No         |No     |No                 |No                 |No                      |No                     |No                    |No    |Yes        |>30       |\n",
            "|12522       |48330783   |Caucasian      |Female|[80-90) |?     |2                |1                       |4                  |13              |?         |?                       |68                |2             |28             |0                |0               |0               |398   |427   |38    |8               |None         |None     |No       |No         |No         |No            |No         |No           |Steady   |No       |No         |No          |No           |No      |No      |No          |No        |No     |No         |Steady |No                 |No                 |No                      |No                     |No                    |Ch    |Yes        |NO        |\n",
            "|15738       |63555939   |Caucasian      |Female|[90-100)|?     |3                |3                       |4                  |12              |?         |InternalMedicine        |33                |3             |18             |0                |0               |0               |434   |198   |486   |8               |None         |None     |No       |No         |No         |No            |No         |No           |No       |No       |No         |No          |Steady       |No      |No      |No          |No        |No     |No         |Steady |No                 |No                 |No                      |No                     |No                    |Ch    |Yes        |NO        |\n",
            "|28236       |89869032   |AfricanAmerican|Female|[40-50) |?     |1                |1                       |7                  |9               |?         |?                       |47                |2             |17             |0                |0               |0               |250.7 |403   |996   |9               |None         |None     |No       |No         |No         |No            |No         |No           |No       |No       |No         |No          |No           |No      |No      |No          |No        |No     |No         |Steady |No                 |No                 |No                      |No                     |No                    |No    |Yes        |>30       |\n",
            "|36900       |77391171   |AfricanAmerican|Male  |[60-70) |?     |2                |1                       |4                  |7               |?         |?                       |62                |0             |11             |0                |0               |0               |157   |288   |197   |7               |None         |None     |No       |No         |No         |No            |No         |No           |No       |Up       |No         |No          |No           |No      |No      |No          |No        |No     |No         |Steady |No                 |No                 |No                      |No                     |No                    |Ch    |Yes        |<30       |\n",
            "|40926       |85504905   |Caucasian      |Female|[40-50) |?     |1                |3                       |7                  |7               |?         |Family/GeneralPractice  |60                |0             |15             |0                |1               |0               |428   |250.43|250.6 |8               |None         |None     |Steady   |Up         |No         |No            |No         |No           |No       |No       |No         |No          |No           |No      |No      |No          |No        |No     |No         |Down   |No                 |No                 |No                      |No                     |No                    |Ch    |Yes        |<30       |\n",
            "|42570       |77586282   |Caucasian      |Male  |[80-90) |?     |1                |6                       |7                  |10              |?         |Family/GeneralPractice  |55                |1             |31             |0                |0               |0               |428   |411   |427   |8               |None         |None     |No       |No         |No         |No            |No         |No           |No       |No       |No         |No          |No           |No      |No      |No          |No        |No     |No         |Steady |No                 |No                 |No                      |No                     |No                    |No    |Yes        |NO        |\n",
            "|62256       |49726791   |AfricanAmerican|Female|[60-70) |?     |3                |1                       |2                  |1               |?         |?                       |49                |5             |2              |0                |0               |0               |518   |998   |627   |8               |None         |None     |No       |No         |No         |No            |No         |No           |No       |No       |No         |No          |No           |No      |No      |No          |No        |No     |No         |Steady |No                 |No                 |No                      |No                     |No                    |No    |Yes        |>30       |\n",
            "|73578       |86328819   |AfricanAmerican|Male  |[60-70) |?     |1                |3                       |7                  |12              |?         |?                       |75                |5             |13             |0                |0               |0               |999   |507   |996   |9               |None         |None     |No       |No         |No         |No            |No         |No           |No       |No       |No         |No          |No           |No      |No      |No          |No        |No     |No         |Up     |No                 |No                 |No                      |No                     |No                    |Ch    |Yes        |NO        |\n",
            "|77076       |92519352   |AfricanAmerican|Male  |[50-60) |?     |1                |1                       |7                  |4               |?         |?                       |45                |4             |17             |0                |0               |0               |410   |411   |414   |8               |None         |None     |No       |No         |No         |No            |No         |No           |Steady   |No       |No         |No          |No           |No      |No      |No          |No        |No     |No         |Steady |No                 |No                 |No                      |No                     |No                    |Ch    |Yes        |<30       |\n",
            "|84222       |108662661  |Caucasian      |Female|[50-60) |?     |1                |1                       |7                  |3               |?         |Cardiology              |29                |0             |11             |0                |0               |0               |682   |174   |250   |3               |None         |None     |No       |No         |No         |No            |No         |No           |No       |Steady   |No         |No          |No           |No      |No      |No          |No        |No     |No         |No     |No                 |No                 |No                      |No                     |No                    |No    |Yes        |NO        |\n",
            "|89682       |107389323  |AfricanAmerican|Male  |[70-80) |?     |1                |1                       |7                  |5               |?         |?                       |35                |5             |23             |0                |0               |0               |402   |425   |416   |9               |None         |None     |No       |No         |No         |No            |No         |No           |No       |No       |No         |No          |No           |No      |No      |No          |No        |No     |No         |Steady |No                 |No                 |No                      |No                     |No                    |No    |Yes        |>30       |\n",
            "|148530      |69422211   |?              |Male  |[70-80) |?     |3                |6                       |2                  |6               |?         |?                       |42                |2             |23             |0                |0               |0               |737   |427   |714   |8               |None         |None     |No       |No         |No         |No            |No         |No           |No       |Down     |No         |No          |No           |No      |No      |No          |No        |No     |No         |Steady |No                 |No                 |No                      |No                     |No                    |Ch    |Yes        |NO        |\n",
            "+------------+-----------+---------------+------+--------+------+-----------------+------------------------+-------------------+----------------+----------+------------------------+------------------+--------------+---------------+-----------------+----------------+----------------+------+------+------+----------------+-------------+---------+---------+-----------+-----------+--------------+-----------+-------------+---------+---------+-----------+------------+-------------+--------+--------+------------+----------+-------+-----------+-------+-------------------+-------------------+------------------------+-----------------------+----------------------+------+-----------+----------+\n",
            "only showing top 20 rows\n",
            "\n"
          ]
        },
        {
          "output_type": "execute_result",
          "data": {
            "text/plain": [
              "101766"
            ]
          },
          "metadata": {},
          "execution_count": 7
        }
      ],
      "source": [
        "df =spark.read.option('header','true').csv('/content/diabetic_data.csv')\n",
        "df.show(truncate=False)\n",
        "df.count()"
      ]
    },
    {
      "cell_type": "code",
      "execution_count": 8,
      "metadata": {
        "colab": {
          "base_uri": "https://localhost:8080/",
          "height": 186
        },
        "id": "W2UfOGM4GIF_",
        "outputId": "ef8ce176-dc1d-4a60-ff59-7c2989f63c40",
        "collapsed": true
      },
      "outputs": [
        {
          "output_type": "execute_result",
          "data": {
            "text/plain": [
              "pyspark.sql.dataframe.DataFrame"
            ],
            "text/html": [
              "<div style=\"max-width:800px; border: 1px solid var(--colab-border-color);\"><style>\n",
              "      pre.function-repr-contents {\n",
              "        overflow-x: auto;\n",
              "        padding: 8px 12px;\n",
              "        max-height: 500px;\n",
              "      }\n",
              "\n",
              "      pre.function-repr-contents.function-repr-contents-collapsed {\n",
              "        cursor: pointer;\n",
              "        max-height: 100px;\n",
              "      }\n",
              "    </style>\n",
              "    <pre style=\"white-space: initial; background:\n",
              "         var(--colab-secondary-surface-color); padding: 8px 12px;\n",
              "         border-bottom: 1px solid var(--colab-border-color);\"><b>pyspark.sql.dataframe.DataFrame</b><br/>def __init__(jdf: JavaObject, sql_ctx: Union[&#x27;SQLContext&#x27;, &#x27;SparkSession&#x27;])</pre><pre class=\"function-repr-contents function-repr-contents-collapsed\" style=\"\"><a class=\"filepath\" style=\"display:none\" href=\"#\">/usr/local/lib/python3.11/dist-packages/pyspark/sql/dataframe.py</a>A distributed collection of data grouped into named columns.\n",
              "\n",
              ".. versionadded:: 1.3.0\n",
              "\n",
              ".. versionchanged:: 3.4.0\n",
              "    Supports Spark Connect.\n",
              "\n",
              "Examples\n",
              "--------\n",
              "A :class:`DataFrame` is equivalent to a relational table in Spark SQL,\n",
              "and can be created using various functions in :class:`SparkSession`:\n",
              "\n",
              "&gt;&gt;&gt; people = spark.createDataFrame([\n",
              "...     {&quot;deptId&quot;: 1, &quot;age&quot;: 40, &quot;name&quot;: &quot;Hyukjin Kwon&quot;, &quot;gender&quot;: &quot;M&quot;, &quot;salary&quot;: 50},\n",
              "...     {&quot;deptId&quot;: 1, &quot;age&quot;: 50, &quot;name&quot;: &quot;Takuya Ueshin&quot;, &quot;gender&quot;: &quot;M&quot;, &quot;salary&quot;: 100},\n",
              "...     {&quot;deptId&quot;: 2, &quot;age&quot;: 60, &quot;name&quot;: &quot;Xinrong Meng&quot;, &quot;gender&quot;: &quot;F&quot;, &quot;salary&quot;: 150},\n",
              "...     {&quot;deptId&quot;: 3, &quot;age&quot;: 20, &quot;name&quot;: &quot;Haejoon Lee&quot;, &quot;gender&quot;: &quot;M&quot;, &quot;salary&quot;: 200}\n",
              "... ])\n",
              "\n",
              "Once created, it can be manipulated using the various domain-specific-language\n",
              "(DSL) functions defined in: :class:`DataFrame`, :class:`Column`.\n",
              "\n",
              "To select a column from the :class:`DataFrame`, use the apply method:\n",
              "\n",
              "&gt;&gt;&gt; age_col = people.age\n",
              "\n",
              "A more concrete example:\n",
              "\n",
              "&gt;&gt;&gt; # To create DataFrame using SparkSession\n",
              "... department = spark.createDataFrame([\n",
              "...     {&quot;id&quot;: 1, &quot;name&quot;: &quot;PySpark&quot;},\n",
              "...     {&quot;id&quot;: 2, &quot;name&quot;: &quot;ML&quot;},\n",
              "...     {&quot;id&quot;: 3, &quot;name&quot;: &quot;Spark SQL&quot;}\n",
              "... ])\n",
              "\n",
              "&gt;&gt;&gt; people.filter(people.age &gt; 30).join(\n",
              "...     department, people.deptId == department.id).groupBy(\n",
              "...     department.name, &quot;gender&quot;).agg({&quot;salary&quot;: &quot;avg&quot;, &quot;age&quot;: &quot;max&quot;}).show()\n",
              "+-------+------+-----------+--------+\n",
              "|   name|gender|avg(salary)|max(age)|\n",
              "+-------+------+-----------+--------+\n",
              "|     ML|     F|      150.0|      60|\n",
              "|PySpark|     M|       75.0|      50|\n",
              "+-------+------+-----------+--------+\n",
              "\n",
              "Notes\n",
              "-----\n",
              "A DataFrame should only be created as described above. It should not be directly\n",
              "created via using the constructor.</pre>\n",
              "      <script>\n",
              "      if (google.colab.kernel.accessAllowed && google.colab.files && google.colab.files.view) {\n",
              "        for (const element of document.querySelectorAll('.filepath')) {\n",
              "          element.style.display = 'block'\n",
              "          element.onclick = (event) => {\n",
              "            event.preventDefault();\n",
              "            event.stopPropagation();\n",
              "            google.colab.files.view(element.textContent, 80);\n",
              "          };\n",
              "        }\n",
              "      }\n",
              "      for (const element of document.querySelectorAll('.function-repr-contents')) {\n",
              "        element.onclick = (event) => {\n",
              "          event.preventDefault();\n",
              "          event.stopPropagation();\n",
              "          element.classList.toggle('function-repr-contents-collapsed');\n",
              "        };\n",
              "      }\n",
              "      </script>\n",
              "      </div>"
            ]
          },
          "metadata": {},
          "execution_count": 8
        }
      ],
      "source": [
        "type(df)"
      ]
    },
    {
      "cell_type": "code",
      "execution_count": null,
      "metadata": {
        "colab": {
          "base_uri": "https://localhost:8080/"
        },
        "collapsed": true,
        "id": "8LF0nBSqGIcf",
        "outputId": "ef7f8204-7b1c-4ebe-8d9e-034746642737"
      },
      "outputs": [
        {
          "output_type": "execute_result",
          "data": {
            "text/plain": [
              "['encounter_id',\n",
              " 'patient_nbr',\n",
              " 'race',\n",
              " 'gender',\n",
              " 'age',\n",
              " 'weight',\n",
              " 'admission_type_id',\n",
              " 'discharge_disposition_id',\n",
              " 'admission_source_id',\n",
              " 'time_in_hospital',\n",
              " 'payer_code',\n",
              " 'medical_specialty',\n",
              " 'num_lab_procedures',\n",
              " 'num_procedures',\n",
              " 'num_medications',\n",
              " 'number_outpatient',\n",
              " 'number_emergency',\n",
              " 'number_inpatient',\n",
              " 'diag_1',\n",
              " 'diag_2',\n",
              " 'diag_3',\n",
              " 'number_diagnoses',\n",
              " 'max_glu_serum',\n",
              " 'A1Cresult',\n",
              " 'metformin',\n",
              " 'repaglinide',\n",
              " 'nateglinide',\n",
              " 'chlorpropamide',\n",
              " 'glimepiride',\n",
              " 'acetohexamide',\n",
              " 'glipizide',\n",
              " 'glyburide',\n",
              " 'tolbutamide',\n",
              " 'pioglitazone',\n",
              " 'rosiglitazone',\n",
              " 'acarbose',\n",
              " 'miglitol',\n",
              " 'troglitazone',\n",
              " 'tolazamide',\n",
              " 'examide',\n",
              " 'citoglipton',\n",
              " 'insulin',\n",
              " 'glyburide-metformin',\n",
              " 'glipizide-metformin',\n",
              " 'glimepiride-pioglitazone',\n",
              " 'metformin-rosiglitazone',\n",
              " 'metformin-pioglitazone',\n",
              " 'change',\n",
              " 'diabetesMed',\n",
              " 'readmitted']"
            ]
          },
          "metadata": {},
          "execution_count": 56
        }
      ],
      "source": [
        "df.columns"
      ]
    },
    {
      "cell_type": "code",
      "execution_count": null,
      "metadata": {
        "colab": {
          "base_uri": "https://localhost:8080/"
        },
        "collapsed": true,
        "id": "1lN5p088GINI",
        "outputId": "e0c436cf-7adc-4238-f01f-3353b3f6d0bd"
      },
      "outputs": [
        {
          "output_type": "stream",
          "name": "stdout",
          "text": [
            "root\n",
            " |-- encounter_id: string (nullable = true)\n",
            " |-- patient_nbr: string (nullable = true)\n",
            " |-- race: string (nullable = true)\n",
            " |-- gender: string (nullable = true)\n",
            " |-- age: string (nullable = true)\n",
            " |-- weight: string (nullable = true)\n",
            " |-- admission_type_id: string (nullable = true)\n",
            " |-- discharge_disposition_id: string (nullable = true)\n",
            " |-- admission_source_id: string (nullable = true)\n",
            " |-- time_in_hospital: string (nullable = true)\n",
            " |-- payer_code: string (nullable = true)\n",
            " |-- medical_specialty: string (nullable = true)\n",
            " |-- num_lab_procedures: string (nullable = true)\n",
            " |-- num_procedures: string (nullable = true)\n",
            " |-- num_medications: string (nullable = true)\n",
            " |-- number_outpatient: string (nullable = true)\n",
            " |-- number_emergency: string (nullable = true)\n",
            " |-- number_inpatient: string (nullable = true)\n",
            " |-- diag_1: string (nullable = true)\n",
            " |-- diag_2: string (nullable = true)\n",
            " |-- diag_3: string (nullable = true)\n",
            " |-- number_diagnoses: string (nullable = true)\n",
            " |-- max_glu_serum: string (nullable = true)\n",
            " |-- A1Cresult: string (nullable = true)\n",
            " |-- metformin: string (nullable = true)\n",
            " |-- repaglinide: string (nullable = true)\n",
            " |-- nateglinide: string (nullable = true)\n",
            " |-- chlorpropamide: string (nullable = true)\n",
            " |-- glimepiride: string (nullable = true)\n",
            " |-- acetohexamide: string (nullable = true)\n",
            " |-- glipizide: string (nullable = true)\n",
            " |-- glyburide: string (nullable = true)\n",
            " |-- tolbutamide: string (nullable = true)\n",
            " |-- pioglitazone: string (nullable = true)\n",
            " |-- rosiglitazone: string (nullable = true)\n",
            " |-- acarbose: string (nullable = true)\n",
            " |-- miglitol: string (nullable = true)\n",
            " |-- troglitazone: string (nullable = true)\n",
            " |-- tolazamide: string (nullable = true)\n",
            " |-- examide: string (nullable = true)\n",
            " |-- citoglipton: string (nullable = true)\n",
            " |-- insulin: string (nullable = true)\n",
            " |-- glyburide-metformin: string (nullable = true)\n",
            " |-- glipizide-metformin: string (nullable = true)\n",
            " |-- glimepiride-pioglitazone: string (nullable = true)\n",
            " |-- metformin-rosiglitazone: string (nullable = true)\n",
            " |-- metformin-pioglitazone: string (nullable = true)\n",
            " |-- change: string (nullable = true)\n",
            " |-- diabetesMed: string (nullable = true)\n",
            " |-- readmitted: string (nullable = true)\n",
            "\n"
          ]
        }
      ],
      "source": [
        "df.printSchema()"
      ]
    },
    {
      "cell_type": "markdown",
      "metadata": {
        "id": "MXq6jR_P3AQT"
      },
      "source": [
        "**using inferschema to detectsome columns to Integers**"
      ]
    },
    {
      "cell_type": "code",
      "execution_count": 9,
      "metadata": {
        "colab": {
          "base_uri": "https://localhost:8080/"
        },
        "collapsed": true,
        "id": "vQT9a-x7GIVg",
        "outputId": "05a0d510-3fc1-43af-c5b1-6b4a7dc11588"
      },
      "outputs": [
        {
          "output_type": "stream",
          "name": "stdout",
          "text": [
            "root\n",
            " |-- encounter_id: integer (nullable = true)\n",
            " |-- patient_nbr: integer (nullable = true)\n",
            " |-- race: string (nullable = true)\n",
            " |-- gender: string (nullable = true)\n",
            " |-- age: string (nullable = true)\n",
            " |-- weight: string (nullable = true)\n",
            " |-- admission_type_id: integer (nullable = true)\n",
            " |-- discharge_disposition_id: integer (nullable = true)\n",
            " |-- admission_source_id: integer (nullable = true)\n",
            " |-- time_in_hospital: integer (nullable = true)\n",
            " |-- payer_code: string (nullable = true)\n",
            " |-- medical_specialty: string (nullable = true)\n",
            " |-- num_lab_procedures: integer (nullable = true)\n",
            " |-- num_procedures: integer (nullable = true)\n",
            " |-- num_medications: integer (nullable = true)\n",
            " |-- number_outpatient: integer (nullable = true)\n",
            " |-- number_emergency: integer (nullable = true)\n",
            " |-- number_inpatient: integer (nullable = true)\n",
            " |-- diag_1: string (nullable = true)\n",
            " |-- diag_2: string (nullable = true)\n",
            " |-- diag_3: string (nullable = true)\n",
            " |-- number_diagnoses: integer (nullable = true)\n",
            " |-- max_glu_serum: string (nullable = true)\n",
            " |-- A1Cresult: string (nullable = true)\n",
            " |-- metformin: string (nullable = true)\n",
            " |-- repaglinide: string (nullable = true)\n",
            " |-- nateglinide: string (nullable = true)\n",
            " |-- chlorpropamide: string (nullable = true)\n",
            " |-- glimepiride: string (nullable = true)\n",
            " |-- acetohexamide: string (nullable = true)\n",
            " |-- glipizide: string (nullable = true)\n",
            " |-- glyburide: string (nullable = true)\n",
            " |-- tolbutamide: string (nullable = true)\n",
            " |-- pioglitazone: string (nullable = true)\n",
            " |-- rosiglitazone: string (nullable = true)\n",
            " |-- acarbose: string (nullable = true)\n",
            " |-- miglitol: string (nullable = true)\n",
            " |-- troglitazone: string (nullable = true)\n",
            " |-- tolazamide: string (nullable = true)\n",
            " |-- examide: string (nullable = true)\n",
            " |-- citoglipton: string (nullable = true)\n",
            " |-- insulin: string (nullable = true)\n",
            " |-- glyburide-metformin: string (nullable = true)\n",
            " |-- glipizide-metformin: string (nullable = true)\n",
            " |-- glimepiride-pioglitazone: string (nullable = true)\n",
            " |-- metformin-rosiglitazone: string (nullable = true)\n",
            " |-- metformin-pioglitazone: string (nullable = true)\n",
            " |-- change: string (nullable = true)\n",
            " |-- diabetesMed: string (nullable = true)\n",
            " |-- readmitted: string (nullable = true)\n",
            "\n"
          ]
        }
      ],
      "source": [
        "df =spark.read.option('header','true').csv('/content/diabetic_data.csv',inferSchema = True)\n",
        "df.printSchema()"
      ]
    },
    {
      "cell_type": "code",
      "execution_count": null,
      "metadata": {
        "colab": {
          "base_uri": "https://localhost:8080/"
        },
        "collapsed": true,
        "id": "sQZdt0GwGIjR",
        "outputId": "b5c484b4-7dbd-476e-e094-44b0476853b6"
      },
      "outputs": [
        {
          "output_type": "execute_result",
          "data": {
            "text/plain": [
              "[Row(encounter_id=2278392, patient_nbr=8222157, race='Caucasian', gender='Female', age='[0-10)', weight='?', admission_type_id=6, discharge_disposition_id=25, admission_source_id=1, time_in_hospital=1, payer_code='?', medical_specialty='Pediatrics-Endocrinology', num_lab_procedures=41, num_procedures=0, num_medications=1, number_outpatient=0, number_emergency=0, number_inpatient=0, diag_1='250.83', diag_2='?', diag_3='?', number_diagnoses=1, max_glu_serum='None', A1Cresult='None', metformin='No', repaglinide='No', nateglinide='No', chlorpropamide='No', glimepiride='No', acetohexamide='No', glipizide='No', glyburide='No', tolbutamide='No', pioglitazone='No', rosiglitazone='No', acarbose='No', miglitol='No', troglitazone='No', tolazamide='No', examide='No', citoglipton='No', insulin='No', glyburide-metformin='No', glipizide-metformin='No', glimepiride-pioglitazone='No', metformin-rosiglitazone='No', metformin-pioglitazone='No', change='No', diabetesMed='No', readmitted='NO')]"
            ]
          },
          "metadata": {},
          "execution_count": 59
        }
      ],
      "source": [
        "df.head(1)"
      ]
    },
    {
      "cell_type": "code",
      "execution_count": null,
      "metadata": {
        "colab": {
          "base_uri": "https://localhost:8080/"
        },
        "collapsed": true,
        "id": "8KN6okU-GI4t",
        "outputId": "eb559a88-8c3d-4a98-be81-1363b19356b8"
      },
      "outputs": [
        {
          "output_type": "execute_result",
          "data": {
            "text/plain": [
              "[('encounter_id', 'int'),\n",
              " ('patient_nbr', 'int'),\n",
              " ('race', 'string'),\n",
              " ('gender', 'string'),\n",
              " ('age', 'string'),\n",
              " ('weight', 'string'),\n",
              " ('admission_type_id', 'int'),\n",
              " ('discharge_disposition_id', 'int'),\n",
              " ('admission_source_id', 'int'),\n",
              " ('time_in_hospital', 'int'),\n",
              " ('payer_code', 'string'),\n",
              " ('medical_specialty', 'string'),\n",
              " ('num_lab_procedures', 'int'),\n",
              " ('num_procedures', 'int'),\n",
              " ('num_medications', 'int'),\n",
              " ('number_outpatient', 'int'),\n",
              " ('number_emergency', 'int'),\n",
              " ('number_inpatient', 'int'),\n",
              " ('diag_1', 'string'),\n",
              " ('diag_2', 'string'),\n",
              " ('diag_3', 'string'),\n",
              " ('number_diagnoses', 'int'),\n",
              " ('max_glu_serum', 'string'),\n",
              " ('A1Cresult', 'string'),\n",
              " ('metformin', 'string'),\n",
              " ('repaglinide', 'string'),\n",
              " ('nateglinide', 'string'),\n",
              " ('chlorpropamide', 'string'),\n",
              " ('glimepiride', 'string'),\n",
              " ('acetohexamide', 'string'),\n",
              " ('glipizide', 'string'),\n",
              " ('glyburide', 'string'),\n",
              " ('tolbutamide', 'string'),\n",
              " ('pioglitazone', 'string'),\n",
              " ('rosiglitazone', 'string'),\n",
              " ('acarbose', 'string'),\n",
              " ('miglitol', 'string'),\n",
              " ('troglitazone', 'string'),\n",
              " ('tolazamide', 'string'),\n",
              " ('examide', 'string'),\n",
              " ('citoglipton', 'string'),\n",
              " ('insulin', 'string'),\n",
              " ('glyburide-metformin', 'string'),\n",
              " ('glipizide-metformin', 'string'),\n",
              " ('glimepiride-pioglitazone', 'string'),\n",
              " ('metformin-rosiglitazone', 'string'),\n",
              " ('metformin-pioglitazone', 'string'),\n",
              " ('change', 'string'),\n",
              " ('diabetesMed', 'string'),\n",
              " ('readmitted', 'string')]"
            ]
          },
          "metadata": {},
          "execution_count": 60
        }
      ],
      "source": [
        "df.dtypes"
      ]
    },
    {
      "cell_type": "code",
      "execution_count": 10,
      "metadata": {
        "colab": {
          "base_uri": "https://localhost:8080/"
        },
        "collapsed": true,
        "id": "4rT9fk1VGJXm",
        "outputId": "46e61745-02bd-4512-ff53-e9244e3d1918"
      },
      "outputs": [
        {
          "output_type": "stream",
          "name": "stdout",
          "text": [
            "+-------+-----------+---------------+------+--------+------+-----------------+------------------------+-------------------+----------------+----------+--------------------+------------------+--------------+---------------+-----------------+----------------+----------------+------+------+------+----------------+-------------+---------+---------+-----------+-----------+--------------+-----------+-------------+---------+---------+-----------+------------+-------------+--------+--------+------------+----------+-------+-----------+-------+-------------------+-------------------+------------------------+-----------------------+----------------------+------+-----------+----------+\n",
            "|     id|patient_nbr|           race|gender|     age|weight|admission_type_id|discharge_disposition_id|admission_source_id|time_in_hospital|payer_code|   medical_specialty|num_lab_procedures|num_procedures|num_medications|number_outpatient|number_emergency|number_inpatient|diag_1|diag_2|diag_3|number_diagnoses|max_glu_serum|A1Cresult|metformin|repaglinide|nateglinide|chlorpropamide|glimepiride|acetohexamide|glipizide|glyburide|tolbutamide|pioglitazone|rosiglitazone|acarbose|miglitol|troglitazone|tolazamide|examide|citoglipton|insulin|glyburide-metformin|glipizide-metformin|glimepiride-pioglitazone|metformin-rosiglitazone|metformin-pioglitazone|change|diabetesMed|readmitted|\n",
            "+-------+-----------+---------------+------+--------+------+-----------------+------------------------+-------------------+----------------+----------+--------------------+------------------+--------------+---------------+-----------------+----------------+----------------+------+------+------+----------------+-------------+---------+---------+-----------+-----------+--------------+-----------+-------------+---------+---------+-----------+------------+-------------+--------+--------+------------+----------+-------+-----------+-------+-------------------+-------------------+------------------------+-----------------------+----------------------+------+-----------+----------+\n",
            "|2278392|    8222157|      Caucasian|Female|  [0-10)|     ?|                6|                      25|                  1|               1|         ?|Pediatrics-Endocr...|                41|             0|              1|                0|               0|               0|250.83|     ?|     ?|               1|         None|     None|       No|         No|         No|            No|         No|           No|       No|       No|         No|          No|           No|      No|      No|          No|        No|     No|         No|     No|                 No|                 No|                      No|                     No|                    No|    No|         No|        NO|\n",
            "| 149190|   55629189|      Caucasian|Female| [10-20)|     ?|                1|                       1|                  7|               3|         ?|                   ?|                59|             0|             18|                0|               0|               0|   276|250.01|   255|               9|         None|     None|       No|         No|         No|            No|         No|           No|       No|       No|         No|          No|           No|      No|      No|          No|        No|     No|         No|     Up|                 No|                 No|                      No|                     No|                    No|    Ch|        Yes|       >30|\n",
            "|  64410|   86047875|AfricanAmerican|Female| [20-30)|     ?|                1|                       1|                  7|               2|         ?|                   ?|                11|             5|             13|                2|               0|               1|   648|   250|   V27|               6|         None|     None|       No|         No|         No|            No|         No|           No|   Steady|       No|         No|          No|           No|      No|      No|          No|        No|     No|         No|     No|                 No|                 No|                      No|                     No|                    No|    No|        Yes|        NO|\n",
            "| 500364|   82442376|      Caucasian|  Male| [30-40)|     ?|                1|                       1|                  7|               2|         ?|                   ?|                44|             1|             16|                0|               0|               0|     8|250.43|   403|               7|         None|     None|       No|         No|         No|            No|         No|           No|       No|       No|         No|          No|           No|      No|      No|          No|        No|     No|         No|     Up|                 No|                 No|                      No|                     No|                    No|    Ch|        Yes|        NO|\n",
            "|  16680|   42519267|      Caucasian|  Male| [40-50)|     ?|                1|                       1|                  7|               1|         ?|                   ?|                51|             0|              8|                0|               0|               0|   197|   157|   250|               5|         None|     None|       No|         No|         No|            No|         No|           No|   Steady|       No|         No|          No|           No|      No|      No|          No|        No|     No|         No| Steady|                 No|                 No|                      No|                     No|                    No|    Ch|        Yes|        NO|\n",
            "|  35754|   82637451|      Caucasian|  Male| [50-60)|     ?|                2|                       1|                  2|               3|         ?|                   ?|                31|             6|             16|                0|               0|               0|   414|   411|   250|               9|         None|     None|       No|         No|         No|            No|         No|           No|       No|       No|         No|          No|           No|      No|      No|          No|        No|     No|         No| Steady|                 No|                 No|                      No|                     No|                    No|    No|        Yes|       >30|\n",
            "|  55842|   84259809|      Caucasian|  Male| [60-70)|     ?|                3|                       1|                  2|               4|         ?|                   ?|                70|             1|             21|                0|               0|               0|   414|   411|   V45|               7|         None|     None|   Steady|         No|         No|            No|     Steady|           No|       No|       No|         No|          No|           No|      No|      No|          No|        No|     No|         No| Steady|                 No|                 No|                      No|                     No|                    No|    Ch|        Yes|        NO|\n",
            "|  63768|  114882984|      Caucasian|  Male| [70-80)|     ?|                1|                       1|                  7|               5|         ?|                   ?|                73|             0|             12|                0|               0|               0|   428|   492|   250|               8|         None|     None|       No|         No|         No|            No|         No|           No|       No|   Steady|         No|          No|           No|      No|      No|          No|        No|     No|         No|     No|                 No|                 No|                      No|                     No|                    No|    No|        Yes|       >30|\n",
            "|  12522|   48330783|      Caucasian|Female| [80-90)|     ?|                2|                       1|                  4|              13|         ?|                   ?|                68|             2|             28|                0|               0|               0|   398|   427|    38|               8|         None|     None|       No|         No|         No|            No|         No|           No|   Steady|       No|         No|          No|           No|      No|      No|          No|        No|     No|         No| Steady|                 No|                 No|                      No|                     No|                    No|    Ch|        Yes|        NO|\n",
            "|  15738|   63555939|      Caucasian|Female|[90-100)|     ?|                3|                       3|                  4|              12|         ?|    InternalMedicine|                33|             3|             18|                0|               0|               0|   434|   198|   486|               8|         None|     None|       No|         No|         No|            No|         No|           No|       No|       No|         No|          No|       Steady|      No|      No|          No|        No|     No|         No| Steady|                 No|                 No|                      No|                     No|                    No|    Ch|        Yes|        NO|\n",
            "|  28236|   89869032|AfricanAmerican|Female| [40-50)|     ?|                1|                       1|                  7|               9|         ?|                   ?|                47|             2|             17|                0|               0|               0| 250.7|   403|   996|               9|         None|     None|       No|         No|         No|            No|         No|           No|       No|       No|         No|          No|           No|      No|      No|          No|        No|     No|         No| Steady|                 No|                 No|                      No|                     No|                    No|    No|        Yes|       >30|\n",
            "|  36900|   77391171|AfricanAmerican|  Male| [60-70)|     ?|                2|                       1|                  4|               7|         ?|                   ?|                62|             0|             11|                0|               0|               0|   157|   288|   197|               7|         None|     None|       No|         No|         No|            No|         No|           No|       No|       Up|         No|          No|           No|      No|      No|          No|        No|     No|         No| Steady|                 No|                 No|                      No|                     No|                    No|    Ch|        Yes|       <30|\n",
            "|  40926|   85504905|      Caucasian|Female| [40-50)|     ?|                1|                       3|                  7|               7|         ?|Family/GeneralPra...|                60|             0|             15|                0|               1|               0|   428|250.43| 250.6|               8|         None|     None|   Steady|         Up|         No|            No|         No|           No|       No|       No|         No|          No|           No|      No|      No|          No|        No|     No|         No|   Down|                 No|                 No|                      No|                     No|                    No|    Ch|        Yes|       <30|\n",
            "|  42570|   77586282|      Caucasian|  Male| [80-90)|     ?|                1|                       6|                  7|              10|         ?|Family/GeneralPra...|                55|             1|             31|                0|               0|               0|   428|   411|   427|               8|         None|     None|       No|         No|         No|            No|         No|           No|       No|       No|         No|          No|           No|      No|      No|          No|        No|     No|         No| Steady|                 No|                 No|                      No|                     No|                    No|    No|        Yes|        NO|\n",
            "|  62256|   49726791|AfricanAmerican|Female| [60-70)|     ?|                3|                       1|                  2|               1|         ?|                   ?|                49|             5|              2|                0|               0|               0|   518|   998|   627|               8|         None|     None|       No|         No|         No|            No|         No|           No|       No|       No|         No|          No|           No|      No|      No|          No|        No|     No|         No| Steady|                 No|                 No|                      No|                     No|                    No|    No|        Yes|       >30|\n",
            "|  73578|   86328819|AfricanAmerican|  Male| [60-70)|     ?|                1|                       3|                  7|              12|         ?|                   ?|                75|             5|             13|                0|               0|               0|   999|   507|   996|               9|         None|     None|       No|         No|         No|            No|         No|           No|       No|       No|         No|          No|           No|      No|      No|          No|        No|     No|         No|     Up|                 No|                 No|                      No|                     No|                    No|    Ch|        Yes|        NO|\n",
            "|  77076|   92519352|AfricanAmerican|  Male| [50-60)|     ?|                1|                       1|                  7|               4|         ?|                   ?|                45|             4|             17|                0|               0|               0|   410|   411|   414|               8|         None|     None|       No|         No|         No|            No|         No|           No|   Steady|       No|         No|          No|           No|      No|      No|          No|        No|     No|         No| Steady|                 No|                 No|                      No|                     No|                    No|    Ch|        Yes|       <30|\n",
            "|  84222|  108662661|      Caucasian|Female| [50-60)|     ?|                1|                       1|                  7|               3|         ?|          Cardiology|                29|             0|             11|                0|               0|               0|   682|   174|   250|               3|         None|     None|       No|         No|         No|            No|         No|           No|       No|   Steady|         No|          No|           No|      No|      No|          No|        No|     No|         No|     No|                 No|                 No|                      No|                     No|                    No|    No|        Yes|        NO|\n",
            "|  89682|  107389323|AfricanAmerican|  Male| [70-80)|     ?|                1|                       1|                  7|               5|         ?|                   ?|                35|             5|             23|                0|               0|               0|   402|   425|   416|               9|         None|     None|       No|         No|         No|            No|         No|           No|       No|       No|         No|          No|           No|      No|      No|          No|        No|     No|         No| Steady|                 No|                 No|                      No|                     No|                    No|    No|        Yes|       >30|\n",
            "| 148530|   69422211|              ?|  Male| [70-80)|     ?|                3|                       6|                  2|               6|         ?|                   ?|                42|             2|             23|                0|               0|               0|   737|   427|   714|               8|         None|     None|       No|         No|         No|            No|         No|           No|       No|     Down|         No|          No|           No|      No|      No|          No|        No|     No|         No| Steady|                 No|                 No|                      No|                     No|                    No|    Ch|        Yes|        NO|\n",
            "+-------+-----------+---------------+------+--------+------+-----------------+------------------------+-------------------+----------------+----------+--------------------+------------------+--------------+---------------+-----------------+----------------+----------------+------+------+------+----------------+-------------+---------+---------+-----------+-----------+--------------+-----------+-------------+---------+---------+-----------+------------+-------------+--------+--------+------------+----------+-------+-----------+-------+-------------------+-------------------+------------------------+-----------------------+----------------------+------+-----------+----------+\n",
            "only showing top 20 rows\n",
            "\n"
          ]
        }
      ],
      "source": [
        "df = df.withColumnRenamed('encounter_id','id') #renamed the encounter id column\n",
        "df.show()"
      ]
    },
    {
      "cell_type": "code",
      "execution_count": null,
      "metadata": {
        "colab": {
          "base_uri": "https://localhost:8080/"
        },
        "id": "42Y7Kg3qGJfg",
        "outputId": "c2d9091e-d087-4234-c1fa-a1793f3fb5b5"
      },
      "outputs": [
        {
          "output_type": "execute_result",
          "data": {
            "text/plain": [
              "101766"
            ]
          },
          "metadata": {},
          "execution_count": 9
        }
      ],
      "source": [
        "row_count = df.count()\n",
        "row_count"
      ]
    },
    {
      "cell_type": "code",
      "execution_count": null,
      "metadata": {
        "colab": {
          "base_uri": "https://localhost:8080/"
        },
        "id": "d6GDdiEJGJmU",
        "outputId": "762ba16e-10f1-4833-eecc-b6dc98c4b463"
      },
      "outputs": [
        {
          "output_type": "execute_result",
          "data": {
            "text/plain": [
              "50"
            ]
          },
          "metadata": {},
          "execution_count": 10
        }
      ],
      "source": [
        "col_count =len(df.columns)\n",
        "col_count"
      ]
    },
    {
      "cell_type": "markdown",
      "metadata": {
        "id": "fVGHmpd_jh2T"
      },
      "source": [
        "**Counting null values and '?'**\n",
        "Many missing values in this dataset are represented by \"?\" instead of actual nulls.\n",
        "\n",
        "This line counts how many missing or \"?\" entries exist per column.\n"
      ]
    },
    {
      "cell_type": "code",
      "execution_count": 11,
      "metadata": {
        "id": "GDgNwiz5GJtE"
      },
      "outputs": [],
      "source": [
        "from pyspark.sql.functions import col, when, count\n",
        "columns = df.columns\n",
        "null_counts = df.select([count(when(col(c).isNull() | (col(c)=='?'),c)).alias(c) for c in columns])"
      ]
    },
    {
      "cell_type": "code",
      "execution_count": null,
      "metadata": {
        "colab": {
          "base_uri": "https://localhost:8080/"
        },
        "id": "MgRjHm34GJyN",
        "outputId": "37e11da2-f533-4eb5-c89e-81cc9fd9eca4"
      },
      "outputs": [
        {
          "output_type": "stream",
          "name": "stdout",
          "text": [
            "+---+-----------+----+------+---+------+-----------------+------------------------+-------------------+----------------+----------+-----------------+------------------+--------------+---------------+-----------------+----------------+----------------+------+------+------+----------------+-------------+---------+---------+-----------+-----------+--------------+-----------+-------------+---------+---------+-----------+------------+-------------+--------+--------+------------+----------+-------+-----------+-------+-------------------+-------------------+------------------------+-----------------------+----------------------+------+-----------+----------+\n",
            "| id|patient_nbr|race|gender|age|weight|admission_type_id|discharge_disposition_id|admission_source_id|time_in_hospital|payer_code|medical_specialty|num_lab_procedures|num_procedures|num_medications|number_outpatient|number_emergency|number_inpatient|diag_1|diag_2|diag_3|number_diagnoses|max_glu_serum|A1Cresult|metformin|repaglinide|nateglinide|chlorpropamide|glimepiride|acetohexamide|glipizide|glyburide|tolbutamide|pioglitazone|rosiglitazone|acarbose|miglitol|troglitazone|tolazamide|examide|citoglipton|insulin|glyburide-metformin|glipizide-metformin|glimepiride-pioglitazone|metformin-rosiglitazone|metformin-pioglitazone|change|diabetesMed|readmitted|\n",
            "+---+-----------+----+------+---+------+-----------------+------------------------+-------------------+----------------+----------+-----------------+------------------+--------------+---------------+-----------------+----------------+----------------+------+------+------+----------------+-------------+---------+---------+-----------+-----------+--------------+-----------+-------------+---------+---------+-----------+------------+-------------+--------+--------+------------+----------+-------+-----------+-------+-------------------+-------------------+------------------------+-----------------------+----------------------+------+-----------+----------+\n",
            "|  0|          0|2273|     0|  0| 98569|                0|                       0|                  0|               0|     40256|            49949|                 0|             0|              0|                0|               0|               0|    21|   358|  1423|               0|            0|        0|        0|          0|          0|             0|          0|            0|        0|        0|          0|           0|            0|       0|       0|           0|         0|      0|          0|      0|                  0|                  0|                       0|                      0|                     0|     0|          0|         0|\n",
            "+---+-----------+----+------+---+------+-----------------+------------------------+-------------------+----------------+----------+-----------------+------------------+--------------+---------------+-----------------+----------------+----------------+------+------+------+----------------+-------------+---------+---------+-----------+-----------+--------------+-----------+-------------+---------+---------+-----------+------------+-------------+--------+--------+------------+----------+-------+-----------+-------+-------------------+-------------------+------------------------+-----------------------+----------------------+------+-----------+----------+\n",
            "\n"
          ]
        }
      ],
      "source": [
        "null_counts.show()"
      ]
    },
    {
      "cell_type": "markdown",
      "metadata": {
        "id": "RZdYn9VKjaDg"
      },
      "source": [
        "**Unique values of each Column** this is important as smotenc or may be different sampling techniques doesnot handle more unique values well\n",
        "This tells you which columns are categorical (low unique count) vs. possibly high-cardinality (many distinct values).\n",
        "\n",
        "Helps in feature selection and deciding which features need encoding or grouping."
      ]
    },
    {
      "cell_type": "code",
      "execution_count": null,
      "metadata": {
        "colab": {
          "base_uri": "https://localhost:8080/"
        },
        "id": "NES6ZgJ3GJ7V",
        "outputId": "7ac2ded6-dea2-4c67-a55d-187dcd8f4728",
        "collapsed": true
      },
      "outputs": [
        {
          "output_type": "stream",
          "name": "stdout",
          "text": [
            "id: 101766 unique values\n",
            "patient_nbr: 71518 unique values\n",
            "race: 6 unique values\n",
            "gender: 3 unique values\n",
            "age: 10 unique values\n",
            "weight: 10 unique values\n",
            "admission_type_id: 8 unique values\n",
            "discharge_disposition_id: 26 unique values\n",
            "admission_source_id: 17 unique values\n",
            "time_in_hospital: 14 unique values\n",
            "payer_code: 18 unique values\n",
            "medical_specialty: 73 unique values\n",
            "num_lab_procedures: 118 unique values\n",
            "num_procedures: 7 unique values\n",
            "num_medications: 75 unique values\n",
            "number_outpatient: 39 unique values\n",
            "number_emergency: 33 unique values\n",
            "number_inpatient: 21 unique values\n",
            "diag_1: 717 unique values\n",
            "diag_2: 749 unique values\n",
            "diag_3: 790 unique values\n",
            "number_diagnoses: 16 unique values\n",
            "max_glu_serum: 4 unique values\n",
            "A1Cresult: 4 unique values\n",
            "metformin: 4 unique values\n",
            "repaglinide: 4 unique values\n",
            "nateglinide: 4 unique values\n",
            "chlorpropamide: 4 unique values\n",
            "glimepiride: 4 unique values\n",
            "acetohexamide: 2 unique values\n",
            "glipizide: 4 unique values\n",
            "glyburide: 4 unique values\n",
            "tolbutamide: 2 unique values\n",
            "pioglitazone: 4 unique values\n",
            "rosiglitazone: 4 unique values\n",
            "acarbose: 4 unique values\n",
            "miglitol: 4 unique values\n",
            "troglitazone: 2 unique values\n",
            "tolazamide: 3 unique values\n",
            "examide: 1 unique values\n",
            "citoglipton: 1 unique values\n",
            "insulin: 4 unique values\n",
            "glyburide-metformin: 4 unique values\n",
            "glipizide-metformin: 2 unique values\n",
            "glimepiride-pioglitazone: 2 unique values\n",
            "metformin-rosiglitazone: 2 unique values\n",
            "metformin-pioglitazone: 2 unique values\n",
            "change: 2 unique values\n",
            "diabetesMed: 2 unique values\n",
            "readmitted: 3 unique values\n"
          ]
        }
      ],
      "source": [
        "for col_name in columns:\n",
        "    unique_count = df.select(col_name).distinct().count()\n",
        "    print(f\"{col_name}: {unique_count} unique values\")"
      ]
    },
    {
      "cell_type": "code",
      "execution_count": 12,
      "metadata": {
        "colab": {
          "base_uri": "https://localhost:8080/"
        },
        "id": "Vw-ecRVOGKCf",
        "outputId": "8121649b-ddaf-4716-8c53-26ff022619c6",
        "collapsed": true
      },
      "outputs": [
        {
          "output_type": "stream",
          "name": "stdout",
          "text": [
            "\n",
            "Sample Unique Values (Top 5):\n",
            "id:\n",
            "+-------+\n",
            "|id     |\n",
            "+-------+\n",
            "|325848 |\n",
            "|1069716|\n",
            "|2569794|\n",
            "|2577756|\n",
            "|4255566|\n",
            "+-------+\n",
            "only showing top 5 rows\n",
            "\n",
            "patient_nbr:\n",
            "+-----------+\n",
            "|patient_nbr|\n",
            "+-----------+\n",
            "|2038905    |\n",
            "|6550191    |\n",
            "|300825     |\n",
            "|2766582    |\n",
            "|12254760   |\n",
            "+-----------+\n",
            "only showing top 5 rows\n",
            "\n",
            "race:\n",
            "+---------------+\n",
            "|race           |\n",
            "+---------------+\n",
            "|Caucasian      |\n",
            "|Other          |\n",
            "|AfricanAmerican|\n",
            "|Hispanic       |\n",
            "|Asian          |\n",
            "+---------------+\n",
            "only showing top 5 rows\n",
            "\n",
            "gender:\n",
            "+---------------+\n",
            "|gender         |\n",
            "+---------------+\n",
            "|Female         |\n",
            "|Unknown/Invalid|\n",
            "|Male           |\n",
            "+---------------+\n",
            "\n",
            "age:\n",
            "+--------+\n",
            "|age     |\n",
            "+--------+\n",
            "|[70-80) |\n",
            "|[90-100)|\n",
            "|[40-50) |\n",
            "|[10-20) |\n",
            "|[20-30) |\n",
            "+--------+\n",
            "only showing top 5 rows\n",
            "\n",
            "weight:\n",
            "+---------+\n",
            "|weight   |\n",
            "+---------+\n",
            "|[150-175)|\n",
            "|[125-150)|\n",
            "|[0-25)   |\n",
            "|[25-50)  |\n",
            "|[75-100) |\n",
            "+---------+\n",
            "only showing top 5 rows\n",
            "\n",
            "admission_type_id:\n",
            "+-----------------+\n",
            "|admission_type_id|\n",
            "+-----------------+\n",
            "|1                |\n",
            "|6                |\n",
            "|3                |\n",
            "|5                |\n",
            "|4                |\n",
            "+-----------------+\n",
            "only showing top 5 rows\n",
            "\n",
            "discharge_disposition_id:\n",
            "+------------------------+\n",
            "|discharge_disposition_id|\n",
            "+------------------------+\n",
            "|28                      |\n",
            "|27                      |\n",
            "|12                      |\n",
            "|22                      |\n",
            "|1                       |\n",
            "+------------------------+\n",
            "only showing top 5 rows\n",
            "\n",
            "admission_source_id:\n",
            "+-------------------+\n",
            "|admission_source_id|\n",
            "+-------------------+\n",
            "|1                  |\n",
            "|6                  |\n",
            "|3                  |\n",
            "|20                 |\n",
            "|5                  |\n",
            "+-------------------+\n",
            "only showing top 5 rows\n",
            "\n",
            "time_in_hospital:\n",
            "+----------------+\n",
            "|time_in_hospital|\n",
            "+----------------+\n",
            "|12              |\n",
            "|1               |\n",
            "|13              |\n",
            "|6               |\n",
            "|3               |\n",
            "+----------------+\n",
            "only showing top 5 rows\n",
            "\n",
            "payer_code:\n",
            "+----------+\n",
            "|payer_code|\n",
            "+----------+\n",
            "|WC        |\n",
            "|BC        |\n",
            "|MD        |\n",
            "|SP        |\n",
            "|PO        |\n",
            "+----------+\n",
            "only showing top 5 rows\n",
            "\n",
            "medical_specialty:\n",
            "+-------------------------------+\n",
            "|medical_specialty              |\n",
            "+-------------------------------+\n",
            "|Pediatrics-AllergyandImmunology|\n",
            "|Pediatrics-Neurology           |\n",
            "|Orthopedics-Reconstructive     |\n",
            "|Obstetrics                     |\n",
            "|ObstetricsandGynecology        |\n",
            "+-------------------------------+\n",
            "only showing top 5 rows\n",
            "\n",
            "num_lab_procedures:\n",
            "+------------------+\n",
            "|num_lab_procedures|\n",
            "+------------------+\n",
            "|31                |\n",
            "|85                |\n",
            "|65                |\n",
            "|53                |\n",
            "|78                |\n",
            "+------------------+\n",
            "only showing top 5 rows\n",
            "\n",
            "num_procedures:\n",
            "+--------------+\n",
            "|num_procedures|\n",
            "+--------------+\n",
            "|1             |\n",
            "|6             |\n",
            "|3             |\n",
            "|5             |\n",
            "|4             |\n",
            "+--------------+\n",
            "only showing top 5 rows\n",
            "\n",
            "num_medications:\n",
            "+---------------+\n",
            "|num_medications|\n",
            "+---------------+\n",
            "|31             |\n",
            "|65             |\n",
            "|53             |\n",
            "|34             |\n",
            "|81             |\n",
            "+---------------+\n",
            "only showing top 5 rows\n",
            "\n",
            "number_outpatient:\n",
            "+-----------------+\n",
            "|number_outpatient|\n",
            "+-----------------+\n",
            "|27               |\n",
            "|12               |\n",
            "|22               |\n",
            "|1                |\n",
            "|13               |\n",
            "+-----------------+\n",
            "only showing top 5 rows\n",
            "\n",
            "number_emergency:\n",
            "+----------------+\n",
            "|number_emergency|\n",
            "+----------------+\n",
            "|28              |\n",
            "|22              |\n",
            "|1               |\n",
            "|13              |\n",
            "|6               |\n",
            "+----------------+\n",
            "only showing top 5 rows\n",
            "\n",
            "number_inpatient:\n",
            "+----------------+\n",
            "|number_inpatient|\n",
            "+----------------+\n",
            "|12              |\n",
            "|1               |\n",
            "|13              |\n",
            "|6               |\n",
            "|16              |\n",
            "+----------------+\n",
            "only showing top 5 rows\n",
            "\n",
            "diag_1:\n",
            "+------+\n",
            "|diag_1|\n",
            "+------+\n",
            "|296   |\n",
            "|691   |\n",
            "|451   |\n",
            "|853   |\n",
            "|800   |\n",
            "+------+\n",
            "only showing top 5 rows\n",
            "\n",
            "diag_2:\n",
            "+------+\n",
            "|diag_2|\n",
            "+------+\n",
            "|296   |\n",
            "|691   |\n",
            "|451   |\n",
            "|V72   |\n",
            "|800   |\n",
            "+------+\n",
            "only showing top 5 rows\n",
            "\n",
            "diag_3:\n",
            "+------+\n",
            "|diag_3|\n",
            "+------+\n",
            "|296   |\n",
            "|451   |\n",
            "|E876  |\n",
            "|V72   |\n",
            "|944   |\n",
            "+------+\n",
            "only showing top 5 rows\n",
            "\n",
            "number_diagnoses:\n",
            "+----------------+\n",
            "|number_diagnoses|\n",
            "+----------------+\n",
            "|1               |\n",
            "|6               |\n",
            "|3               |\n",
            "|5               |\n",
            "|9               |\n",
            "+----------------+\n",
            "only showing top 5 rows\n",
            "\n",
            "max_glu_serum:\n",
            "+-------------+\n",
            "|max_glu_serum|\n",
            "+-------------+\n",
            "|None         |\n",
            "|>300         |\n",
            "|Norm         |\n",
            "|>200         |\n",
            "+-------------+\n",
            "\n",
            "A1Cresult:\n",
            "+---------+\n",
            "|A1Cresult|\n",
            "+---------+\n",
            "|None     |\n",
            "|>8       |\n",
            "|Norm     |\n",
            "|>7       |\n",
            "+---------+\n",
            "\n",
            "metformin:\n",
            "+---------+\n",
            "|metformin|\n",
            "+---------+\n",
            "|Steady   |\n",
            "|Up       |\n",
            "|No       |\n",
            "|Down     |\n",
            "+---------+\n",
            "\n",
            "repaglinide:\n",
            "+-----------+\n",
            "|repaglinide|\n",
            "+-----------+\n",
            "|Steady     |\n",
            "|Up         |\n",
            "|No         |\n",
            "|Down       |\n",
            "+-----------+\n",
            "\n",
            "nateglinide:\n",
            "+-----------+\n",
            "|nateglinide|\n",
            "+-----------+\n",
            "|Steady     |\n",
            "|Up         |\n",
            "|No         |\n",
            "|Down       |\n",
            "+-----------+\n",
            "\n",
            "chlorpropamide:\n",
            "+--------------+\n",
            "|chlorpropamide|\n",
            "+--------------+\n",
            "|Steady        |\n",
            "|Up            |\n",
            "|No            |\n",
            "|Down          |\n",
            "+--------------+\n",
            "\n",
            "glimepiride:\n",
            "+-----------+\n",
            "|glimepiride|\n",
            "+-----------+\n",
            "|Steady     |\n",
            "|Up         |\n",
            "|No         |\n",
            "|Down       |\n",
            "+-----------+\n",
            "\n",
            "acetohexamide:\n",
            "+-------------+\n",
            "|acetohexamide|\n",
            "+-------------+\n",
            "|Steady       |\n",
            "|No           |\n",
            "+-------------+\n",
            "\n",
            "glipizide:\n",
            "+---------+\n",
            "|glipizide|\n",
            "+---------+\n",
            "|Steady   |\n",
            "|Up       |\n",
            "|No       |\n",
            "|Down     |\n",
            "+---------+\n",
            "\n",
            "glyburide:\n",
            "+---------+\n",
            "|glyburide|\n",
            "+---------+\n",
            "|Steady   |\n",
            "|Up       |\n",
            "|No       |\n",
            "|Down     |\n",
            "+---------+\n",
            "\n",
            "tolbutamide:\n",
            "+-----------+\n",
            "|tolbutamide|\n",
            "+-----------+\n",
            "|Steady     |\n",
            "|No         |\n",
            "+-----------+\n",
            "\n",
            "pioglitazone:\n",
            "+------------+\n",
            "|pioglitazone|\n",
            "+------------+\n",
            "|Steady      |\n",
            "|Up          |\n",
            "|No          |\n",
            "|Down        |\n",
            "+------------+\n",
            "\n",
            "rosiglitazone:\n",
            "+-------------+\n",
            "|rosiglitazone|\n",
            "+-------------+\n",
            "|Steady       |\n",
            "|Up           |\n",
            "|No           |\n",
            "|Down         |\n",
            "+-------------+\n",
            "\n",
            "acarbose:\n",
            "+--------+\n",
            "|acarbose|\n",
            "+--------+\n",
            "|Steady  |\n",
            "|Up      |\n",
            "|No      |\n",
            "|Down    |\n",
            "+--------+\n",
            "\n",
            "miglitol:\n",
            "+--------+\n",
            "|miglitol|\n",
            "+--------+\n",
            "|Steady  |\n",
            "|Up      |\n",
            "|No      |\n",
            "|Down    |\n",
            "+--------+\n",
            "\n",
            "troglitazone:\n",
            "+------------+\n",
            "|troglitazone|\n",
            "+------------+\n",
            "|Steady      |\n",
            "|No          |\n",
            "+------------+\n",
            "\n",
            "tolazamide:\n",
            "+----------+\n",
            "|tolazamide|\n",
            "+----------+\n",
            "|Steady    |\n",
            "|Up        |\n",
            "|No        |\n",
            "+----------+\n",
            "\n",
            "examide:\n",
            "+-------+\n",
            "|examide|\n",
            "+-------+\n",
            "|No     |\n",
            "+-------+\n",
            "\n",
            "citoglipton:\n",
            "+-----------+\n",
            "|citoglipton|\n",
            "+-----------+\n",
            "|No         |\n",
            "+-----------+\n",
            "\n",
            "insulin:\n",
            "+-------+\n",
            "|insulin|\n",
            "+-------+\n",
            "|Steady |\n",
            "|Up     |\n",
            "|No     |\n",
            "|Down   |\n",
            "+-------+\n",
            "\n",
            "glyburide-metformin:\n",
            "+-------------------+\n",
            "|glyburide-metformin|\n",
            "+-------------------+\n",
            "|Steady             |\n",
            "|Up                 |\n",
            "|No                 |\n",
            "|Down               |\n",
            "+-------------------+\n",
            "\n",
            "glipizide-metformin:\n",
            "+-------------------+\n",
            "|glipizide-metformin|\n",
            "+-------------------+\n",
            "|Steady             |\n",
            "|No                 |\n",
            "+-------------------+\n",
            "\n",
            "glimepiride-pioglitazone:\n",
            "+------------------------+\n",
            "|glimepiride-pioglitazone|\n",
            "+------------------------+\n",
            "|No                      |\n",
            "|Steady                  |\n",
            "+------------------------+\n",
            "\n",
            "metformin-rosiglitazone:\n",
            "+-----------------------+\n",
            "|metformin-rosiglitazone|\n",
            "+-----------------------+\n",
            "|No                     |\n",
            "|Steady                 |\n",
            "+-----------------------+\n",
            "\n",
            "metformin-pioglitazone:\n",
            "+----------------------+\n",
            "|metformin-pioglitazone|\n",
            "+----------------------+\n",
            "|No                    |\n",
            "|Steady                |\n",
            "+----------------------+\n",
            "\n",
            "change:\n",
            "+------+\n",
            "|change|\n",
            "+------+\n",
            "|Ch    |\n",
            "|No    |\n",
            "+------+\n",
            "\n",
            "diabetesMed:\n",
            "+-----------+\n",
            "|diabetesMed|\n",
            "+-----------+\n",
            "|No         |\n",
            "|Yes        |\n",
            "+-----------+\n",
            "\n",
            "readmitted:\n",
            "+----------+\n",
            "|readmitted|\n",
            "+----------+\n",
            "|>30       |\n",
            "|NO        |\n",
            "|<30       |\n",
            "+----------+\n",
            "\n"
          ]
        }
      ],
      "source": [
        "#will refine for the columns i need\n",
        "print(\"\\nSample Unique Values (Top 5):\")\n",
        "for col_name in columns:\n",
        "    print(f\"{col_name}:\")\n",
        "    df.select(col_name).distinct().show(5, truncate=False)"
      ]
    },
    {
      "cell_type": "markdown",
      "metadata": {
        "id": "YIYdbqhRtKjI"
      },
      "source": [
        "**Replacing \"?\" with null**"
      ]
    },
    {
      "cell_type": "code",
      "execution_count": 13,
      "metadata": {
        "id": "ykSkOjILGKKE"
      },
      "outputs": [],
      "source": [
        "df_clean = df.replace('?',None)"
      ]
    },
    {
      "cell_type": "code",
      "execution_count": 14,
      "metadata": {
        "colab": {
          "base_uri": "https://localhost:8080/"
        },
        "id": "VkUqaxvNA_IV",
        "outputId": "2cebc9aa-add9-44b6-9bc6-44ccad0b0431"
      },
      "outputs": [
        {
          "output_type": "stream",
          "name": "stdout",
          "text": [
            "Cleaned—now 101766 rows!\n"
          ]
        }
      ],
      "source": [
        "df_clean = df_clean.dropna(subset=['readmitted'])\n",
        "df_clean = df_clean.fillna({'race': 'Unknown', 'gender': 'Unknown', 'diag_1': 'Unknown', 'diag_2': 'Unknown', 'diag_3': 'Unknown'})\n",
        "print(f\"Cleaned—now {df_clean.count()} rows!\")"
      ]
    },
    {
      "cell_type": "code",
      "execution_count": 15,
      "metadata": {
        "colab": {
          "base_uri": "https://localhost:8080/"
        },
        "id": "kRLP_9wSpFnA",
        "outputId": "9e5c8827-0815-4d42-adac-2cfe6d3c374b",
        "collapsed": true
      },
      "outputs": [
        {
          "output_type": "stream",
          "name": "stdout",
          "text": [
            "+-------+-----------+---------------+------+--------+------+-----------------+------------------------+-------------------+----------------+----------+--------------------+------------------+--------------+---------------+-----------------+----------------+----------------+------+-------+-------+----------------+-------------+---------+---------+-----------+-----------+--------------+-----------+-------------+---------+---------+-----------+------------+-------------+--------+--------+------------+----------+-------+-----------+-------+-------------------+-------------------+------------------------+-----------------------+----------------------+------+-----------+----------+\n",
            "|     id|patient_nbr|           race|gender|     age|weight|admission_type_id|discharge_disposition_id|admission_source_id|time_in_hospital|payer_code|   medical_specialty|num_lab_procedures|num_procedures|num_medications|number_outpatient|number_emergency|number_inpatient|diag_1| diag_2| diag_3|number_diagnoses|max_glu_serum|A1Cresult|metformin|repaglinide|nateglinide|chlorpropamide|glimepiride|acetohexamide|glipizide|glyburide|tolbutamide|pioglitazone|rosiglitazone|acarbose|miglitol|troglitazone|tolazamide|examide|citoglipton|insulin|glyburide-metformin|glipizide-metformin|glimepiride-pioglitazone|metformin-rosiglitazone|metformin-pioglitazone|change|diabetesMed|readmitted|\n",
            "+-------+-----------+---------------+------+--------+------+-----------------+------------------------+-------------------+----------------+----------+--------------------+------------------+--------------+---------------+-----------------+----------------+----------------+------+-------+-------+----------------+-------------+---------+---------+-----------+-----------+--------------+-----------+-------------+---------+---------+-----------+------------+-------------+--------+--------+------------+----------+-------+-----------+-------+-------------------+-------------------+------------------------+-----------------------+----------------------+------+-----------+----------+\n",
            "|2278392|    8222157|      Caucasian|Female|  [0-10)|  NULL|                6|                      25|                  1|               1|      NULL|Pediatrics-Endocr...|                41|             0|              1|                0|               0|               0|250.83|Unknown|Unknown|               1|         None|     None|       No|         No|         No|            No|         No|           No|       No|       No|         No|          No|           No|      No|      No|          No|        No|     No|         No|     No|                 No|                 No|                      No|                     No|                    No|    No|         No|        NO|\n",
            "| 149190|   55629189|      Caucasian|Female| [10-20)|  NULL|                1|                       1|                  7|               3|      NULL|                NULL|                59|             0|             18|                0|               0|               0|   276| 250.01|    255|               9|         None|     None|       No|         No|         No|            No|         No|           No|       No|       No|         No|          No|           No|      No|      No|          No|        No|     No|         No|     Up|                 No|                 No|                      No|                     No|                    No|    Ch|        Yes|       >30|\n",
            "|  64410|   86047875|AfricanAmerican|Female| [20-30)|  NULL|                1|                       1|                  7|               2|      NULL|                NULL|                11|             5|             13|                2|               0|               1|   648|    250|    V27|               6|         None|     None|       No|         No|         No|            No|         No|           No|   Steady|       No|         No|          No|           No|      No|      No|          No|        No|     No|         No|     No|                 No|                 No|                      No|                     No|                    No|    No|        Yes|        NO|\n",
            "| 500364|   82442376|      Caucasian|  Male| [30-40)|  NULL|                1|                       1|                  7|               2|      NULL|                NULL|                44|             1|             16|                0|               0|               0|     8| 250.43|    403|               7|         None|     None|       No|         No|         No|            No|         No|           No|       No|       No|         No|          No|           No|      No|      No|          No|        No|     No|         No|     Up|                 No|                 No|                      No|                     No|                    No|    Ch|        Yes|        NO|\n",
            "|  16680|   42519267|      Caucasian|  Male| [40-50)|  NULL|                1|                       1|                  7|               1|      NULL|                NULL|                51|             0|              8|                0|               0|               0|   197|    157|    250|               5|         None|     None|       No|         No|         No|            No|         No|           No|   Steady|       No|         No|          No|           No|      No|      No|          No|        No|     No|         No| Steady|                 No|                 No|                      No|                     No|                    No|    Ch|        Yes|        NO|\n",
            "|  35754|   82637451|      Caucasian|  Male| [50-60)|  NULL|                2|                       1|                  2|               3|      NULL|                NULL|                31|             6|             16|                0|               0|               0|   414|    411|    250|               9|         None|     None|       No|         No|         No|            No|         No|           No|       No|       No|         No|          No|           No|      No|      No|          No|        No|     No|         No| Steady|                 No|                 No|                      No|                     No|                    No|    No|        Yes|       >30|\n",
            "|  55842|   84259809|      Caucasian|  Male| [60-70)|  NULL|                3|                       1|                  2|               4|      NULL|                NULL|                70|             1|             21|                0|               0|               0|   414|    411|    V45|               7|         None|     None|   Steady|         No|         No|            No|     Steady|           No|       No|       No|         No|          No|           No|      No|      No|          No|        No|     No|         No| Steady|                 No|                 No|                      No|                     No|                    No|    Ch|        Yes|        NO|\n",
            "|  63768|  114882984|      Caucasian|  Male| [70-80)|  NULL|                1|                       1|                  7|               5|      NULL|                NULL|                73|             0|             12|                0|               0|               0|   428|    492|    250|               8|         None|     None|       No|         No|         No|            No|         No|           No|       No|   Steady|         No|          No|           No|      No|      No|          No|        No|     No|         No|     No|                 No|                 No|                      No|                     No|                    No|    No|        Yes|       >30|\n",
            "|  12522|   48330783|      Caucasian|Female| [80-90)|  NULL|                2|                       1|                  4|              13|      NULL|                NULL|                68|             2|             28|                0|               0|               0|   398|    427|     38|               8|         None|     None|       No|         No|         No|            No|         No|           No|   Steady|       No|         No|          No|           No|      No|      No|          No|        No|     No|         No| Steady|                 No|                 No|                      No|                     No|                    No|    Ch|        Yes|        NO|\n",
            "|  15738|   63555939|      Caucasian|Female|[90-100)|  NULL|                3|                       3|                  4|              12|      NULL|    InternalMedicine|                33|             3|             18|                0|               0|               0|   434|    198|    486|               8|         None|     None|       No|         No|         No|            No|         No|           No|       No|       No|         No|          No|       Steady|      No|      No|          No|        No|     No|         No| Steady|                 No|                 No|                      No|                     No|                    No|    Ch|        Yes|        NO|\n",
            "|  28236|   89869032|AfricanAmerican|Female| [40-50)|  NULL|                1|                       1|                  7|               9|      NULL|                NULL|                47|             2|             17|                0|               0|               0| 250.7|    403|    996|               9|         None|     None|       No|         No|         No|            No|         No|           No|       No|       No|         No|          No|           No|      No|      No|          No|        No|     No|         No| Steady|                 No|                 No|                      No|                     No|                    No|    No|        Yes|       >30|\n",
            "|  36900|   77391171|AfricanAmerican|  Male| [60-70)|  NULL|                2|                       1|                  4|               7|      NULL|                NULL|                62|             0|             11|                0|               0|               0|   157|    288|    197|               7|         None|     None|       No|         No|         No|            No|         No|           No|       No|       Up|         No|          No|           No|      No|      No|          No|        No|     No|         No| Steady|                 No|                 No|                      No|                     No|                    No|    Ch|        Yes|       <30|\n",
            "|  40926|   85504905|      Caucasian|Female| [40-50)|  NULL|                1|                       3|                  7|               7|      NULL|Family/GeneralPra...|                60|             0|             15|                0|               1|               0|   428| 250.43|  250.6|               8|         None|     None|   Steady|         Up|         No|            No|         No|           No|       No|       No|         No|          No|           No|      No|      No|          No|        No|     No|         No|   Down|                 No|                 No|                      No|                     No|                    No|    Ch|        Yes|       <30|\n",
            "|  42570|   77586282|      Caucasian|  Male| [80-90)|  NULL|                1|                       6|                  7|              10|      NULL|Family/GeneralPra...|                55|             1|             31|                0|               0|               0|   428|    411|    427|               8|         None|     None|       No|         No|         No|            No|         No|           No|       No|       No|         No|          No|           No|      No|      No|          No|        No|     No|         No| Steady|                 No|                 No|                      No|                     No|                    No|    No|        Yes|        NO|\n",
            "|  62256|   49726791|AfricanAmerican|Female| [60-70)|  NULL|                3|                       1|                  2|               1|      NULL|                NULL|                49|             5|              2|                0|               0|               0|   518|    998|    627|               8|         None|     None|       No|         No|         No|            No|         No|           No|       No|       No|         No|          No|           No|      No|      No|          No|        No|     No|         No| Steady|                 No|                 No|                      No|                     No|                    No|    No|        Yes|       >30|\n",
            "|  73578|   86328819|AfricanAmerican|  Male| [60-70)|  NULL|                1|                       3|                  7|              12|      NULL|                NULL|                75|             5|             13|                0|               0|               0|   999|    507|    996|               9|         None|     None|       No|         No|         No|            No|         No|           No|       No|       No|         No|          No|           No|      No|      No|          No|        No|     No|         No|     Up|                 No|                 No|                      No|                     No|                    No|    Ch|        Yes|        NO|\n",
            "|  77076|   92519352|AfricanAmerican|  Male| [50-60)|  NULL|                1|                       1|                  7|               4|      NULL|                NULL|                45|             4|             17|                0|               0|               0|   410|    411|    414|               8|         None|     None|       No|         No|         No|            No|         No|           No|   Steady|       No|         No|          No|           No|      No|      No|          No|        No|     No|         No| Steady|                 No|                 No|                      No|                     No|                    No|    Ch|        Yes|       <30|\n",
            "|  84222|  108662661|      Caucasian|Female| [50-60)|  NULL|                1|                       1|                  7|               3|      NULL|          Cardiology|                29|             0|             11|                0|               0|               0|   682|    174|    250|               3|         None|     None|       No|         No|         No|            No|         No|           No|       No|   Steady|         No|          No|           No|      No|      No|          No|        No|     No|         No|     No|                 No|                 No|                      No|                     No|                    No|    No|        Yes|        NO|\n",
            "|  89682|  107389323|AfricanAmerican|  Male| [70-80)|  NULL|                1|                       1|                  7|               5|      NULL|                NULL|                35|             5|             23|                0|               0|               0|   402|    425|    416|               9|         None|     None|       No|         No|         No|            No|         No|           No|       No|       No|         No|          No|           No|      No|      No|          No|        No|     No|         No| Steady|                 No|                 No|                      No|                     No|                    No|    No|        Yes|       >30|\n",
            "| 148530|   69422211|        Unknown|  Male| [70-80)|  NULL|                3|                       6|                  2|               6|      NULL|                NULL|                42|             2|             23|                0|               0|               0|   737|    427|    714|               8|         None|     None|       No|         No|         No|            No|         No|           No|       No|     Down|         No|          No|           No|      No|      No|          No|        No|     No|         No| Steady|                 No|                 No|                      No|                     No|                    No|    Ch|        Yes|        NO|\n",
            "+-------+-----------+---------------+------+--------+------+-----------------+------------------------+-------------------+----------------+----------+--------------------+------------------+--------------+---------------+-----------------+----------------+----------------+------+-------+-------+----------------+-------------+---------+---------+-----------+-----------+--------------+-----------+-------------+---------+---------+-----------+------------+-------------+--------+--------+------------+----------+-------+-----------+-------+-------------------+-------------------+------------------------+-----------------------+----------------------+------+-----------+----------+\n",
            "only showing top 20 rows\n",
            "\n"
          ]
        }
      ],
      "source": [
        "df_clean.show()"
      ]
    },
    {
      "cell_type": "markdown",
      "metadata": {
        "id": "6JV-7QP5myKN"
      },
      "source": [
        "We're throwing out any rows where the final answer (readmitted) is missing.\n",
        "\n",
        "Then, if anything important like gender or race is blank, we’re just writing 'Unknown' there.\n",
        "\n",
        "Finally, we check how many good rows we still have left."
      ]
    },
    {
      "cell_type": "markdown",
      "metadata": {
        "id": "3ROnr_0BnpdF"
      },
      "source": [
        "picking out all the patients who came back to the hospital in less than 30 days, and  printing how many there are."
      ]
    },
    {
      "cell_type": "code",
      "execution_count": 16,
      "metadata": {
        "colab": {
          "base_uri": "https://localhost:8080/"
        },
        "id": "xs0B1YnzpF4L",
        "outputId": "5d196827-98db-4d56-978b-c7bf285cee4f"
      },
      "outputs": [
        {
          "output_type": "stream",
          "name": "stdout",
          "text": [
            "Patients readmitted <30 days 11357\n"
          ]
        }
      ],
      "source": [
        "readmitted_30 =df_clean.filter(df_clean.readmitted=='<30')\n",
        "print(f\"Patients readmitted <30 days {readmitted_30.count()}\")"
      ]
    },
    {
      "cell_type": "code",
      "execution_count": 17,
      "metadata": {
        "colab": {
          "base_uri": "https://localhost:8080/"
        },
        "id": "etzdVHJKpGEl",
        "outputId": "01f95026-db84-4040-c253-ce2b9cff4625",
        "collapsed": true
      },
      "outputs": [
        {
          "output_type": "stream",
          "name": "stdout",
          "text": [
            "Null Counts:\n",
            "+---+-----------+----+------+---+------+-----------------+------------------------+-------------------+----------------+----------+-----------------+------------------+--------------+---------------+-----------------+----------------+----------------+------+------+------+----------------+-------------+---------+---------+-----------+-----------+--------------+-----------+-------------+---------+---------+-----------+------------+-------------+--------+--------+------------+----------+-------+-----------+-------+-------------------+-------------------+------------------------+-----------------------+----------------------+------+-----------+----------+\n",
            "| id|patient_nbr|race|gender|age|weight|admission_type_id|discharge_disposition_id|admission_source_id|time_in_hospital|payer_code|medical_specialty|num_lab_procedures|num_procedures|num_medications|number_outpatient|number_emergency|number_inpatient|diag_1|diag_2|diag_3|number_diagnoses|max_glu_serum|A1Cresult|metformin|repaglinide|nateglinide|chlorpropamide|glimepiride|acetohexamide|glipizide|glyburide|tolbutamide|pioglitazone|rosiglitazone|acarbose|miglitol|troglitazone|tolazamide|examide|citoglipton|insulin|glyburide-metformin|glipizide-metformin|glimepiride-pioglitazone|metformin-rosiglitazone|metformin-pioglitazone|change|diabetesMed|readmitted|\n",
            "+---+-----------+----+------+---+------+-----------------+------------------------+-------------------+----------------+----------+-----------------+------------------+--------------+---------------+-----------------+----------------+----------------+------+------+------+----------------+-------------+---------+---------+-----------+-----------+--------------+-----------+-------------+---------+---------+-----------+------------+-------------+--------+--------+------------+----------+-------+-----------+-------+-------------------+-------------------+------------------------+-----------------------+----------------------+------+-----------+----------+\n",
            "|  0|          0|2273|     0|  0| 98569|                0|                       0|                  0|               0|     40256|            49949|                 0|             0|              0|                0|               0|               0|    21|   358|  1423|               0|            0|        0|        0|          0|          0|             0|          0|            0|        0|        0|          0|           0|            0|       0|       0|           0|         0|      0|          0|      0|                  0|                  0|                       0|                      0|                     0|     0|          0|         0|\n",
            "+---+-----------+----+------+---+------+-----------------+------------------------+-------------------+----------------+----------+-----------------+------------------+--------------+---------------+-----------------+----------------+----------------+------+------+------+----------------+-------------+---------+---------+-----------+-----------+--------------+-----------+-------------+---------+---------+-----------+------------+-------------+--------+--------+------------+----------+-------+-----------+-------+-------------------+-------------------+------------------------+-----------------------+----------------------+------+-----------+----------+\n",
            "\n"
          ]
        }
      ],
      "source": [
        "print(\"Null Counts:\")\n",
        "null_counts.show()"
      ]
    },
    {
      "cell_type": "code",
      "source": [
        "df_clean.groupBy('readmitted').count().show()"
      ],
      "metadata": {
        "colab": {
          "base_uri": "https://localhost:8080/"
        },
        "id": "D9OMdd8rC8GA",
        "outputId": "b06d2949-3588-440a-e486-53f10a7f246e",
        "collapsed": true
      },
      "execution_count": 18,
      "outputs": [
        {
          "output_type": "stream",
          "name": "stdout",
          "text": [
            "+----------+-----+\n",
            "|readmitted|count|\n",
            "+----------+-----+\n",
            "|       >30|35545|\n",
            "|        NO|54864|\n",
            "|       <30|11357|\n",
            "+----------+-----+\n",
            "\n"
          ]
        }
      ]
    },
    {
      "cell_type": "code",
      "execution_count": 19,
      "metadata": {
        "colab": {
          "base_uri": "https://localhost:8080/"
        },
        "id": "S1NgtFkQpGKW",
        "outputId": "10ca5e1c-2c89-4f7c-883a-a1162365405f",
        "collapsed": true
      },
      "outputs": [
        {
          "output_type": "stream",
          "name": "stdout",
          "text": [
            "+-------+-----------+---------------+------+--------+------+-----------------+------------------------+-------------------+----------------+----------+--------------------+------------------+--------------+---------------+-----------------+----------------+----------------+------+-------+-------+----------------+-------------+---------+---------+-----------+-----------+--------------+-----------+-------------+---------+---------+-----------+------------+-------------+--------+--------+------------+----------+-------+-----------+-------+-------------------+-------------------+------------------------+-----------------------+----------------------+------+-----------+----------+\n",
            "|     id|patient_nbr|           race|gender|     age|weight|admission_type_id|discharge_disposition_id|admission_source_id|time_in_hospital|payer_code|   medical_specialty|num_lab_procedures|num_procedures|num_medications|number_outpatient|number_emergency|number_inpatient|diag_1| diag_2| diag_3|number_diagnoses|max_glu_serum|A1Cresult|metformin|repaglinide|nateglinide|chlorpropamide|glimepiride|acetohexamide|glipizide|glyburide|tolbutamide|pioglitazone|rosiglitazone|acarbose|miglitol|troglitazone|tolazamide|examide|citoglipton|insulin|glyburide-metformin|glipizide-metformin|glimepiride-pioglitazone|metformin-rosiglitazone|metformin-pioglitazone|change|diabetesMed|readmitted|\n",
            "+-------+-----------+---------------+------+--------+------+-----------------+------------------------+-------------------+----------------+----------+--------------------+------------------+--------------+---------------+-----------------+----------------+----------------+------+-------+-------+----------------+-------------+---------+---------+-----------+-----------+--------------+-----------+-------------+---------+---------+-----------+------------+-------------+--------+--------+------------+----------+-------+-----------+-------+-------------------+-------------------+------------------------+-----------------------+----------------------+------+-----------+----------+\n",
            "|2278392|    8222157|      Caucasian|Female|  [0-10)|  NULL|                6|                      25|                  1|               1|      NULL|Pediatrics-Endocr...|                41|             0|              1|                0|               0|               0|250.83|Unknown|Unknown|               1|         None|     None|       No|         No|         No|            No|         No|           No|       No|       No|         No|          No|           No|      No|      No|          No|        No|     No|         No|     No|                 No|                 No|                      No|                     No|                    No|    No|         No|        NO|\n",
            "| 149190|   55629189|      Caucasian|Female| [10-20)|  NULL|                1|                       1|                  7|               3|      NULL|                NULL|                59|             0|             18|                0|               0|               0|   276| 250.01|    255|               9|         None|     None|       No|         No|         No|            No|         No|           No|       No|       No|         No|          No|           No|      No|      No|          No|        No|     No|         No|     Up|                 No|                 No|                      No|                     No|                    No|    Ch|        Yes|       >30|\n",
            "|  64410|   86047875|AfricanAmerican|Female| [20-30)|  NULL|                1|                       1|                  7|               2|      NULL|                NULL|                11|             5|             13|                2|               0|               1|   648|    250|    V27|               6|         None|     None|       No|         No|         No|            No|         No|           No|   Steady|       No|         No|          No|           No|      No|      No|          No|        No|     No|         No|     No|                 No|                 No|                      No|                     No|                    No|    No|        Yes|        NO|\n",
            "| 500364|   82442376|      Caucasian|  Male| [30-40)|  NULL|                1|                       1|                  7|               2|      NULL|                NULL|                44|             1|             16|                0|               0|               0|     8| 250.43|    403|               7|         None|     None|       No|         No|         No|            No|         No|           No|       No|       No|         No|          No|           No|      No|      No|          No|        No|     No|         No|     Up|                 No|                 No|                      No|                     No|                    No|    Ch|        Yes|        NO|\n",
            "|  16680|   42519267|      Caucasian|  Male| [40-50)|  NULL|                1|                       1|                  7|               1|      NULL|                NULL|                51|             0|              8|                0|               0|               0|   197|    157|    250|               5|         None|     None|       No|         No|         No|            No|         No|           No|   Steady|       No|         No|          No|           No|      No|      No|          No|        No|     No|         No| Steady|                 No|                 No|                      No|                     No|                    No|    Ch|        Yes|        NO|\n",
            "|  35754|   82637451|      Caucasian|  Male| [50-60)|  NULL|                2|                       1|                  2|               3|      NULL|                NULL|                31|             6|             16|                0|               0|               0|   414|    411|    250|               9|         None|     None|       No|         No|         No|            No|         No|           No|       No|       No|         No|          No|           No|      No|      No|          No|        No|     No|         No| Steady|                 No|                 No|                      No|                     No|                    No|    No|        Yes|       >30|\n",
            "|  55842|   84259809|      Caucasian|  Male| [60-70)|  NULL|                3|                       1|                  2|               4|      NULL|                NULL|                70|             1|             21|                0|               0|               0|   414|    411|    V45|               7|         None|     None|   Steady|         No|         No|            No|     Steady|           No|       No|       No|         No|          No|           No|      No|      No|          No|        No|     No|         No| Steady|                 No|                 No|                      No|                     No|                    No|    Ch|        Yes|        NO|\n",
            "|  63768|  114882984|      Caucasian|  Male| [70-80)|  NULL|                1|                       1|                  7|               5|      NULL|                NULL|                73|             0|             12|                0|               0|               0|   428|    492|    250|               8|         None|     None|       No|         No|         No|            No|         No|           No|       No|   Steady|         No|          No|           No|      No|      No|          No|        No|     No|         No|     No|                 No|                 No|                      No|                     No|                    No|    No|        Yes|       >30|\n",
            "|  12522|   48330783|      Caucasian|Female| [80-90)|  NULL|                2|                       1|                  4|              13|      NULL|                NULL|                68|             2|             28|                0|               0|               0|   398|    427|     38|               8|         None|     None|       No|         No|         No|            No|         No|           No|   Steady|       No|         No|          No|           No|      No|      No|          No|        No|     No|         No| Steady|                 No|                 No|                      No|                     No|                    No|    Ch|        Yes|        NO|\n",
            "|  15738|   63555939|      Caucasian|Female|[90-100)|  NULL|                3|                       3|                  4|              12|      NULL|    InternalMedicine|                33|             3|             18|                0|               0|               0|   434|    198|    486|               8|         None|     None|       No|         No|         No|            No|         No|           No|       No|       No|         No|          No|       Steady|      No|      No|          No|        No|     No|         No| Steady|                 No|                 No|                      No|                     No|                    No|    Ch|        Yes|        NO|\n",
            "|  28236|   89869032|AfricanAmerican|Female| [40-50)|  NULL|                1|                       1|                  7|               9|      NULL|                NULL|                47|             2|             17|                0|               0|               0| 250.7|    403|    996|               9|         None|     None|       No|         No|         No|            No|         No|           No|       No|       No|         No|          No|           No|      No|      No|          No|        No|     No|         No| Steady|                 No|                 No|                      No|                     No|                    No|    No|        Yes|       >30|\n",
            "|  36900|   77391171|AfricanAmerican|  Male| [60-70)|  NULL|                2|                       1|                  4|               7|      NULL|                NULL|                62|             0|             11|                0|               0|               0|   157|    288|    197|               7|         None|     None|       No|         No|         No|            No|         No|           No|       No|       Up|         No|          No|           No|      No|      No|          No|        No|     No|         No| Steady|                 No|                 No|                      No|                     No|                    No|    Ch|        Yes|       <30|\n",
            "|  40926|   85504905|      Caucasian|Female| [40-50)|  NULL|                1|                       3|                  7|               7|      NULL|Family/GeneralPra...|                60|             0|             15|                0|               1|               0|   428| 250.43|  250.6|               8|         None|     None|   Steady|         Up|         No|            No|         No|           No|       No|       No|         No|          No|           No|      No|      No|          No|        No|     No|         No|   Down|                 No|                 No|                      No|                     No|                    No|    Ch|        Yes|       <30|\n",
            "|  42570|   77586282|      Caucasian|  Male| [80-90)|  NULL|                1|                       6|                  7|              10|      NULL|Family/GeneralPra...|                55|             1|             31|                0|               0|               0|   428|    411|    427|               8|         None|     None|       No|         No|         No|            No|         No|           No|       No|       No|         No|          No|           No|      No|      No|          No|        No|     No|         No| Steady|                 No|                 No|                      No|                     No|                    No|    No|        Yes|        NO|\n",
            "|  62256|   49726791|AfricanAmerican|Female| [60-70)|  NULL|                3|                       1|                  2|               1|      NULL|                NULL|                49|             5|              2|                0|               0|               0|   518|    998|    627|               8|         None|     None|       No|         No|         No|            No|         No|           No|       No|       No|         No|          No|           No|      No|      No|          No|        No|     No|         No| Steady|                 No|                 No|                      No|                     No|                    No|    No|        Yes|       >30|\n",
            "|  73578|   86328819|AfricanAmerican|  Male| [60-70)|  NULL|                1|                       3|                  7|              12|      NULL|                NULL|                75|             5|             13|                0|               0|               0|   999|    507|    996|               9|         None|     None|       No|         No|         No|            No|         No|           No|       No|       No|         No|          No|           No|      No|      No|          No|        No|     No|         No|     Up|                 No|                 No|                      No|                     No|                    No|    Ch|        Yes|        NO|\n",
            "|  77076|   92519352|AfricanAmerican|  Male| [50-60)|  NULL|                1|                       1|                  7|               4|      NULL|                NULL|                45|             4|             17|                0|               0|               0|   410|    411|    414|               8|         None|     None|       No|         No|         No|            No|         No|           No|   Steady|       No|         No|          No|           No|      No|      No|          No|        No|     No|         No| Steady|                 No|                 No|                      No|                     No|                    No|    Ch|        Yes|       <30|\n",
            "|  84222|  108662661|      Caucasian|Female| [50-60)|  NULL|                1|                       1|                  7|               3|      NULL|          Cardiology|                29|             0|             11|                0|               0|               0|   682|    174|    250|               3|         None|     None|       No|         No|         No|            No|         No|           No|       No|   Steady|         No|          No|           No|      No|      No|          No|        No|     No|         No|     No|                 No|                 No|                      No|                     No|                    No|    No|        Yes|        NO|\n",
            "|  89682|  107389323|AfricanAmerican|  Male| [70-80)|  NULL|                1|                       1|                  7|               5|      NULL|                NULL|                35|             5|             23|                0|               0|               0|   402|    425|    416|               9|         None|     None|       No|         No|         No|            No|         No|           No|       No|       No|         No|          No|           No|      No|      No|          No|        No|     No|         No| Steady|                 No|                 No|                      No|                     No|                    No|    No|        Yes|       >30|\n",
            "| 148530|   69422211|        Unknown|  Male| [70-80)|  NULL|                3|                       6|                  2|               6|      NULL|                NULL|                42|             2|             23|                0|               0|               0|   737|    427|    714|               8|         None|     None|       No|         No|         No|            No|         No|           No|       No|     Down|         No|          No|           No|      No|      No|          No|        No|     No|         No| Steady|                 No|                 No|                      No|                     No|                    No|    Ch|        Yes|        NO|\n",
            "+-------+-----------+---------------+------+--------+------+-----------------+------------------------+-------------------+----------------+----------+--------------------+------------------+--------------+---------------+-----------------+----------------+----------------+------+-------+-------+----------------+-------------+---------+---------+-----------+-----------+--------------+-----------+-------------+---------+---------+-----------+------------+-------------+--------+--------+------------+----------+-------+-----------+-------+-------------------+-------------------+------------------------+-----------------------+----------------------+------+-----------+----------+\n",
            "only showing top 20 rows\n",
            "\n"
          ]
        }
      ],
      "source": [
        "df_clean = df_clean.fillna({'race': 'Unknown', 'diag_1': 'Unknown', 'diag_2': 'Unknown', 'diag_3': 'Unknown'})\n",
        "\n",
        "df_clean.show()"
      ]
    },
    {
      "cell_type": "markdown",
      "metadata": {
        "id": "8C9d2ziZEF-5"
      },
      "source": [
        "**Till here except weight, player code, medical speciality all are cleaned**\n"
      ]
    },
    {
      "cell_type": "markdown",
      "metadata": {
        "id": "ZSQ9ghhKoax4"
      },
      "source": [
        "Go through each column and count how many values are missing (null). Then show the table with those numbers"
      ]
    },
    {
      "cell_type": "code",
      "execution_count": 20,
      "metadata": {
        "colab": {
          "base_uri": "https://localhost:8080/"
        },
        "id": "zK12w8G1pGP8",
        "outputId": "5b573be5-693f-4cee-88a7-9b92b0a6f34e",
        "collapsed": true
      },
      "outputs": [
        {
          "output_type": "stream",
          "name": "stdout",
          "text": [
            "Null Counts:\n",
            "+---+-----------+----+------+---+------+-----------------+------------------------+-------------------+----------------+----------+-----------------+------------------+--------------+---------------+-----------------+----------------+----------------+------+------+------+----------------+-------------+---------+---------+-----------+-----------+--------------+-----------+-------------+---------+---------+-----------+------------+-------------+--------+--------+------------+----------+-------+-----------+-------+-------------------+-------------------+------------------------+-----------------------+----------------------+------+-----------+----------+\n",
            "| id|patient_nbr|race|gender|age|weight|admission_type_id|discharge_disposition_id|admission_source_id|time_in_hospital|payer_code|medical_specialty|num_lab_procedures|num_procedures|num_medications|number_outpatient|number_emergency|number_inpatient|diag_1|diag_2|diag_3|number_diagnoses|max_glu_serum|A1Cresult|metformin|repaglinide|nateglinide|chlorpropamide|glimepiride|acetohexamide|glipizide|glyburide|tolbutamide|pioglitazone|rosiglitazone|acarbose|miglitol|troglitazone|tolazamide|examide|citoglipton|insulin|glyburide-metformin|glipizide-metformin|glimepiride-pioglitazone|metformin-rosiglitazone|metformin-pioglitazone|change|diabetesMed|readmitted|\n",
            "+---+-----------+----+------+---+------+-----------------+------------------------+-------------------+----------------+----------+-----------------+------------------+--------------+---------------+-----------------+----------------+----------------+------+------+------+----------------+-------------+---------+---------+-----------+-----------+--------------+-----------+-------------+---------+---------+-----------+------------+-------------+--------+--------+------------+----------+-------+-----------+-------+-------------------+-------------------+------------------------+-----------------------+----------------------+------+-----------+----------+\n",
            "|  0|          0|   0|     0|  0| 98569|                0|                       0|                  0|               0|     40256|            49949|                 0|             0|              0|                0|               0|               0|     0|     0|     0|               0|            0|        0|        0|          0|          0|             0|          0|            0|        0|        0|          0|           0|            0|       0|       0|           0|         0|      0|          0|      0|                  0|                  0|                       0|                      0|                     0|     0|          0|         0|\n",
            "+---+-----------+----+------+---+------+-----------------+------------------------+-------------------+----------------+----------+-----------------+------------------+--------------+---------------+-----------------+----------------+----------------+------+------+------+----------------+-------------+---------+---------+-----------+-----------+--------------+-----------+-------------+---------+---------+-----------+------------+-------------+--------+--------+------------+----------+-------+-----------+-------+-------------------+-------------------+------------------------+-----------------------+----------------------+------+-----------+----------+\n",
            "\n"
          ]
        }
      ],
      "source": [
        "null_counts = df_clean.select([count(when(col(c).isNull(),c)).alias(c) for c in df.columns])\n",
        "# Show the null counts\n",
        "print(\"Null Counts:\")\n",
        "null_counts.show()"
      ]
    },
    {
      "cell_type": "markdown",
      "metadata": {
        "id": "TyQ3j6uZFN4Q"
      },
      "source": [
        "**dropping some no used column**\n"
      ]
    },
    {
      "cell_type": "code",
      "execution_count": 21,
      "metadata": {
        "colab": {
          "base_uri": "https://localhost:8080/"
        },
        "id": "5DjlrgaGFNNe",
        "outputId": "df508f52-f8ba-46f3-f1b4-f953416d9e0a"
      },
      "outputs": [
        {
          "output_type": "stream",
          "name": "stdout",
          "text": [
            "Dropped columns: ['weight', 'payer_code', 'medical_specialty', 'admission_type_id', 'discharge_disposition_id', 'admission_source_id']\n",
            "Remaining columns: 44 (['id', 'patient_nbr', 'race', 'gender', 'age', 'time_in_hospital', 'num_lab_procedures', 'num_procedures', 'num_medications', 'number_outpatient', 'number_emergency', 'number_inpatient', 'diag_1', 'diag_2', 'diag_3', 'number_diagnoses', 'max_glu_serum', 'A1Cresult', 'metformin', 'repaglinide', 'nateglinide', 'chlorpropamide', 'glimepiride', 'acetohexamide', 'glipizide', 'glyburide', 'tolbutamide', 'pioglitazone', 'rosiglitazone', 'acarbose', 'miglitol', 'troglitazone', 'tolazamide', 'examide', 'citoglipton', 'insulin', 'glyburide-metformin', 'glipizide-metformin', 'glimepiride-pioglitazone', 'metformin-rosiglitazone', 'metformin-pioglitazone', 'change', 'diabetesMed', 'readmitted'])\n"
          ]
        }
      ],
      "source": [
        "columns_to_drop = [\n",
        "    'weight', 'payer_code', 'medical_specialty',\n",
        "    'admission_type_id', 'discharge_disposition_id', 'admission_source_id'\n",
        "]\n",
        "df_clean = df_clean.drop(*columns_to_drop)\n",
        "print(f\"Dropped columns: {columns_to_drop}\")\n",
        "print(f\"Remaining columns: {len(df_clean.columns)} ({df_clean.columns})\")"
      ]
    },
    {
      "cell_type": "markdown",
      "metadata": {
        "id": "2z3oaKG3G-w7"
      },
      "source": [
        "**adding target column with less than 30 value to 1 and oters are 0**"
      ]
    },
    {
      "cell_type": "markdown",
      "metadata": {
        "id": "VDdIXrJXpKlm"
      },
      "source": [
        "making a new column called target.\n",
        "If the patient came back to the hospital in under 30 days,  write 1.\n",
        "Otherwise, write 0.\n",
        "This new column is what model will try to predict, key step for ML"
      ]
    },
    {
      "cell_type": "code",
      "execution_count": 22,
      "metadata": {
        "id": "5vcQ4xyupGVI"
      },
      "outputs": [],
      "source": [
        "df_clean = df_clean.withColumn(\n",
        "    'target',\n",
        "    when(col('readmitted') == '<30', 1).otherwise(0))"
      ]
    },
    {
      "cell_type": "code",
      "execution_count": 23,
      "metadata": {
        "colab": {
          "base_uri": "https://localhost:8080/"
        },
        "id": "VnsftAW2pGad",
        "outputId": "d47b3f02-5df8-49f0-e0f0-5c200a16b135",
        "collapsed": true
      },
      "outputs": [
        {
          "output_type": "stream",
          "name": "stdout",
          "text": [
            "+-------+-----------+---------------+------+--------+----------------+------------------+--------------+---------------+-----------------+----------------+----------------+------+-------+-------+----------------+-------------+---------+---------+-----------+-----------+--------------+-----------+-------------+---------+---------+-----------+------------+-------------+--------+--------+------------+----------+-------+-----------+-------+-------------------+-------------------+------------------------+-----------------------+----------------------+------+-----------+----------+------+\n",
            "|     id|patient_nbr|           race|gender|     age|time_in_hospital|num_lab_procedures|num_procedures|num_medications|number_outpatient|number_emergency|number_inpatient|diag_1| diag_2| diag_3|number_diagnoses|max_glu_serum|A1Cresult|metformin|repaglinide|nateglinide|chlorpropamide|glimepiride|acetohexamide|glipizide|glyburide|tolbutamide|pioglitazone|rosiglitazone|acarbose|miglitol|troglitazone|tolazamide|examide|citoglipton|insulin|glyburide-metformin|glipizide-metformin|glimepiride-pioglitazone|metformin-rosiglitazone|metformin-pioglitazone|change|diabetesMed|readmitted|target|\n",
            "+-------+-----------+---------------+------+--------+----------------+------------------+--------------+---------------+-----------------+----------------+----------------+------+-------+-------+----------------+-------------+---------+---------+-----------+-----------+--------------+-----------+-------------+---------+---------+-----------+------------+-------------+--------+--------+------------+----------+-------+-----------+-------+-------------------+-------------------+------------------------+-----------------------+----------------------+------+-----------+----------+------+\n",
            "|2278392|    8222157|      Caucasian|Female|  [0-10)|               1|                41|             0|              1|                0|               0|               0|250.83|Unknown|Unknown|               1|         None|     None|       No|         No|         No|            No|         No|           No|       No|       No|         No|          No|           No|      No|      No|          No|        No|     No|         No|     No|                 No|                 No|                      No|                     No|                    No|    No|         No|        NO|     0|\n",
            "| 149190|   55629189|      Caucasian|Female| [10-20)|               3|                59|             0|             18|                0|               0|               0|   276| 250.01|    255|               9|         None|     None|       No|         No|         No|            No|         No|           No|       No|       No|         No|          No|           No|      No|      No|          No|        No|     No|         No|     Up|                 No|                 No|                      No|                     No|                    No|    Ch|        Yes|       >30|     0|\n",
            "|  64410|   86047875|AfricanAmerican|Female| [20-30)|               2|                11|             5|             13|                2|               0|               1|   648|    250|    V27|               6|         None|     None|       No|         No|         No|            No|         No|           No|   Steady|       No|         No|          No|           No|      No|      No|          No|        No|     No|         No|     No|                 No|                 No|                      No|                     No|                    No|    No|        Yes|        NO|     0|\n",
            "| 500364|   82442376|      Caucasian|  Male| [30-40)|               2|                44|             1|             16|                0|               0|               0|     8| 250.43|    403|               7|         None|     None|       No|         No|         No|            No|         No|           No|       No|       No|         No|          No|           No|      No|      No|          No|        No|     No|         No|     Up|                 No|                 No|                      No|                     No|                    No|    Ch|        Yes|        NO|     0|\n",
            "|  16680|   42519267|      Caucasian|  Male| [40-50)|               1|                51|             0|              8|                0|               0|               0|   197|    157|    250|               5|         None|     None|       No|         No|         No|            No|         No|           No|   Steady|       No|         No|          No|           No|      No|      No|          No|        No|     No|         No| Steady|                 No|                 No|                      No|                     No|                    No|    Ch|        Yes|        NO|     0|\n",
            "|  35754|   82637451|      Caucasian|  Male| [50-60)|               3|                31|             6|             16|                0|               0|               0|   414|    411|    250|               9|         None|     None|       No|         No|         No|            No|         No|           No|       No|       No|         No|          No|           No|      No|      No|          No|        No|     No|         No| Steady|                 No|                 No|                      No|                     No|                    No|    No|        Yes|       >30|     0|\n",
            "|  55842|   84259809|      Caucasian|  Male| [60-70)|               4|                70|             1|             21|                0|               0|               0|   414|    411|    V45|               7|         None|     None|   Steady|         No|         No|            No|     Steady|           No|       No|       No|         No|          No|           No|      No|      No|          No|        No|     No|         No| Steady|                 No|                 No|                      No|                     No|                    No|    Ch|        Yes|        NO|     0|\n",
            "|  63768|  114882984|      Caucasian|  Male| [70-80)|               5|                73|             0|             12|                0|               0|               0|   428|    492|    250|               8|         None|     None|       No|         No|         No|            No|         No|           No|       No|   Steady|         No|          No|           No|      No|      No|          No|        No|     No|         No|     No|                 No|                 No|                      No|                     No|                    No|    No|        Yes|       >30|     0|\n",
            "|  12522|   48330783|      Caucasian|Female| [80-90)|              13|                68|             2|             28|                0|               0|               0|   398|    427|     38|               8|         None|     None|       No|         No|         No|            No|         No|           No|   Steady|       No|         No|          No|           No|      No|      No|          No|        No|     No|         No| Steady|                 No|                 No|                      No|                     No|                    No|    Ch|        Yes|        NO|     0|\n",
            "|  15738|   63555939|      Caucasian|Female|[90-100)|              12|                33|             3|             18|                0|               0|               0|   434|    198|    486|               8|         None|     None|       No|         No|         No|            No|         No|           No|       No|       No|         No|          No|       Steady|      No|      No|          No|        No|     No|         No| Steady|                 No|                 No|                      No|                     No|                    No|    Ch|        Yes|        NO|     0|\n",
            "|  28236|   89869032|AfricanAmerican|Female| [40-50)|               9|                47|             2|             17|                0|               0|               0| 250.7|    403|    996|               9|         None|     None|       No|         No|         No|            No|         No|           No|       No|       No|         No|          No|           No|      No|      No|          No|        No|     No|         No| Steady|                 No|                 No|                      No|                     No|                    No|    No|        Yes|       >30|     0|\n",
            "|  36900|   77391171|AfricanAmerican|  Male| [60-70)|               7|                62|             0|             11|                0|               0|               0|   157|    288|    197|               7|         None|     None|       No|         No|         No|            No|         No|           No|       No|       Up|         No|          No|           No|      No|      No|          No|        No|     No|         No| Steady|                 No|                 No|                      No|                     No|                    No|    Ch|        Yes|       <30|     1|\n",
            "|  40926|   85504905|      Caucasian|Female| [40-50)|               7|                60|             0|             15|                0|               1|               0|   428| 250.43|  250.6|               8|         None|     None|   Steady|         Up|         No|            No|         No|           No|       No|       No|         No|          No|           No|      No|      No|          No|        No|     No|         No|   Down|                 No|                 No|                      No|                     No|                    No|    Ch|        Yes|       <30|     1|\n",
            "|  42570|   77586282|      Caucasian|  Male| [80-90)|              10|                55|             1|             31|                0|               0|               0|   428|    411|    427|               8|         None|     None|       No|         No|         No|            No|         No|           No|       No|       No|         No|          No|           No|      No|      No|          No|        No|     No|         No| Steady|                 No|                 No|                      No|                     No|                    No|    No|        Yes|        NO|     0|\n",
            "|  62256|   49726791|AfricanAmerican|Female| [60-70)|               1|                49|             5|              2|                0|               0|               0|   518|    998|    627|               8|         None|     None|       No|         No|         No|            No|         No|           No|       No|       No|         No|          No|           No|      No|      No|          No|        No|     No|         No| Steady|                 No|                 No|                      No|                     No|                    No|    No|        Yes|       >30|     0|\n",
            "|  73578|   86328819|AfricanAmerican|  Male| [60-70)|              12|                75|             5|             13|                0|               0|               0|   999|    507|    996|               9|         None|     None|       No|         No|         No|            No|         No|           No|       No|       No|         No|          No|           No|      No|      No|          No|        No|     No|         No|     Up|                 No|                 No|                      No|                     No|                    No|    Ch|        Yes|        NO|     0|\n",
            "|  77076|   92519352|AfricanAmerican|  Male| [50-60)|               4|                45|             4|             17|                0|               0|               0|   410|    411|    414|               8|         None|     None|       No|         No|         No|            No|         No|           No|   Steady|       No|         No|          No|           No|      No|      No|          No|        No|     No|         No| Steady|                 No|                 No|                      No|                     No|                    No|    Ch|        Yes|       <30|     1|\n",
            "|  84222|  108662661|      Caucasian|Female| [50-60)|               3|                29|             0|             11|                0|               0|               0|   682|    174|    250|               3|         None|     None|       No|         No|         No|            No|         No|           No|       No|   Steady|         No|          No|           No|      No|      No|          No|        No|     No|         No|     No|                 No|                 No|                      No|                     No|                    No|    No|        Yes|        NO|     0|\n",
            "|  89682|  107389323|AfricanAmerican|  Male| [70-80)|               5|                35|             5|             23|                0|               0|               0|   402|    425|    416|               9|         None|     None|       No|         No|         No|            No|         No|           No|       No|       No|         No|          No|           No|      No|      No|          No|        No|     No|         No| Steady|                 No|                 No|                      No|                     No|                    No|    No|        Yes|       >30|     0|\n",
            "| 148530|   69422211|        Unknown|  Male| [70-80)|               6|                42|             2|             23|                0|               0|               0|   737|    427|    714|               8|         None|     None|       No|         No|         No|            No|         No|           No|       No|     Down|         No|          No|           No|      No|      No|          No|        No|     No|         No| Steady|                 No|                 No|                      No|                     No|                    No|    Ch|        Yes|        NO|     0|\n",
            "+-------+-----------+---------------+------+--------+----------------+------------------+--------------+---------------+-----------------+----------------+----------------+------+-------+-------+----------------+-------------+---------+---------+-----------+-----------+--------------+-----------+-------------+---------+---------+-----------+------------+-------------+--------+--------+------------+----------+-------+-----------+-------+-------------------+-------------------+------------------------+-----------------------+----------------------+------+-----------+----------+------+\n",
            "only showing top 20 rows\n",
            "\n"
          ]
        }
      ],
      "source": [
        "df_clean.show()"
      ]
    },
    {
      "cell_type": "markdown",
      "metadata": {
        "id": "dpU7BBIgrXYT"
      },
      "source": [
        "**diag_1, diag_2, diag_3 are now grouped in 3 new columns with data description given with dataset**\n",
        "\n",
        "The diagnosis columns have messy medical codes.\n",
        "Grouped them into simple categories like ‘Diabetes’ or ‘Heart Problems’.\n",
        "Did this for the first 3 diagnosis columns and added new ones that are easier for the model to understand."
      ]
    },
    {
      "cell_type": "code",
      "execution_count": 24,
      "metadata": {
        "id": "LVdOizWJpGk4"
      },
      "outputs": [],
      "source": [
        "def map_diagnosis(diag_col):\n",
        "    return when(col(diag_col).isNull(), 'Unknown') \\\n",
        "        .when(col(diag_col).cast('string').between('390', '459') | (col(diag_col) == '785'), 'Circulatory') \\\n",
        "        .when(col(diag_col).cast('string').between('460', '519') | (col(diag_col) == '786'), 'Respiratory') \\\n",
        "        .when(col(diag_col).cast('string').between('520', '579') | (col(diag_col) == '787'), 'Digestive') \\\n",
        "        .when(col(diag_col).cast('string').startswith('250'), 'Diabetes') \\\n",
        "        .when(col(diag_col).cast('string').between('800', '999'), 'Injury') \\\n",
        "        .when(col(diag_col).cast('string').between('710', '739'), 'Musculoskeletal') \\\n",
        "        .when(col(diag_col).cast('string').between('580', '629') | (col(diag_col) == '788'), 'Genitourinary') \\\n",
        "        .when(col(diag_col).cast('string').between('140', '239'), 'Neoplasms') \\\n",
        "        .when((col(diag_col).cast('string').between('780', '781')) | (col(diag_col).cast('string').between('784', '799')), 'Other Symptoms') \\\n",
        "        .when(col(diag_col).cast('string').between('240', '279') & ~col(diag_col).cast('string').startswith('250'), 'Endocrine') \\\n",
        "        .when(col(diag_col).cast('string').between('680', '709') | (col(diag_col) == '782'), 'Skin') \\\n",
        "        .when(col(diag_col).cast('string').between('001', '139'), 'Infectious') \\\n",
        "        .when(col(diag_col).cast('string').between('290', '319'), 'Mental') \\\n",
        "        .when(col(diag_col).cast('string').startswith('E') | col(diag_col).cast('string').startswith('V'), 'External') \\\n",
        "        .when(col(diag_col).cast('string').between('280', '289'), 'Blood') \\\n",
        "        .when(col(diag_col).cast('string').between('320', '359'), 'Nervous') \\\n",
        "        .when(col(diag_col).cast('string').between('630', '679'), 'Pregnancy') \\\n",
        "        .when(col(diag_col).cast('string').between('360', '389'), 'Sense Organs') \\\n",
        "        .when(col(diag_col).cast('string').between('740', '759'), 'Congenital') \\\n",
        "        .otherwise('Other')\n",
        "\n",
        "#these 3 column are added (these are categorical)\n",
        "df_clean = df_clean.withColumn('diag_1_grouped', map_diagnosis('diag_1')) \\\n",
        "                   .withColumn('diag_2_grouped', map_diagnosis('diag_2')) \\\n",
        "                   .withColumn('diag_3_grouped', map_diagnosis('diag_3'))"
      ]
    },
    {
      "cell_type": "markdown",
      "metadata": {
        "id": "O3ir7EgIWDJR"
      },
      "source": [
        "Drop diag columns"
      ]
    },
    {
      "cell_type": "code",
      "execution_count": 25,
      "metadata": {
        "id": "IIyx0JhsV4qp"
      },
      "outputs": [],
      "source": [
        "diag_cols = ['diag_1','diag_2','diag_3']\n",
        "df_clean = df_clean.drop(*diag_cols)"
      ]
    },
    {
      "cell_type": "code",
      "execution_count": 26,
      "metadata": {
        "colab": {
          "base_uri": "https://localhost:8080/"
        },
        "id": "mlefEDzlpGqF",
        "outputId": "1f2c106e-f324-4143-d601-de5b3b03b191",
        "collapsed": true
      },
      "outputs": [
        {
          "output_type": "stream",
          "name": "stdout",
          "text": [
            "+-------+-----------+---------------+------+--------+----------------+------------------+--------------+---------------+-----------------+----------------+----------------+----------------+-------------+---------+---------+-----------+-----------+--------------+-----------+-------------+---------+---------+-----------+------------+-------------+--------+--------+------------+----------+-------+-----------+-------+-------------------+-------------------+------------------------+-----------------------+----------------------+------+-----------+----------+------+---------------+--------------+---------------+\n",
            "|     id|patient_nbr|           race|gender|     age|time_in_hospital|num_lab_procedures|num_procedures|num_medications|number_outpatient|number_emergency|number_inpatient|number_diagnoses|max_glu_serum|A1Cresult|metformin|repaglinide|nateglinide|chlorpropamide|glimepiride|acetohexamide|glipizide|glyburide|tolbutamide|pioglitazone|rosiglitazone|acarbose|miglitol|troglitazone|tolazamide|examide|citoglipton|insulin|glyburide-metformin|glipizide-metformin|glimepiride-pioglitazone|metformin-rosiglitazone|metformin-pioglitazone|change|diabetesMed|readmitted|target| diag_1_grouped|diag_2_grouped| diag_3_grouped|\n",
            "+-------+-----------+---------------+------+--------+----------------+------------------+--------------+---------------+-----------------+----------------+----------------+----------------+-------------+---------+---------+-----------+-----------+--------------+-----------+-------------+---------+---------+-----------+------------+-------------+--------+--------+------------+----------+-------+-----------+-------+-------------------+-------------------+------------------------+-----------------------+----------------------+------+-----------+----------+------+---------------+--------------+---------------+\n",
            "|2278392|    8222157|      Caucasian|Female|  [0-10)|               1|                41|             0|              1|                0|               0|               0|               1|         None|     None|       No|         No|         No|            No|         No|           No|       No|       No|         No|          No|           No|      No|      No|          No|        No|     No|         No|     No|                 No|                 No|                      No|                     No|                    No|    No|         No|        NO|     0|       Diabetes|         Other|          Other|\n",
            "| 149190|   55629189|      Caucasian|Female| [10-20)|               3|                59|             0|             18|                0|               0|               0|               9|         None|     None|       No|         No|         No|            No|         No|           No|       No|       No|         No|          No|           No|      No|      No|          No|        No|     No|         No|     Up|                 No|                 No|                      No|                     No|                    No|    Ch|        Yes|       >30|     0|      Endocrine|      Diabetes|      Endocrine|\n",
            "|  64410|   86047875|AfricanAmerican|Female| [20-30)|               2|                11|             5|             13|                2|               0|               1|               6|         None|     None|       No|         No|         No|            No|         No|           No|   Steady|       No|         No|          No|           No|      No|      No|          No|        No|     No|         No|     No|                 No|                 No|                      No|                     No|                    No|    No|        Yes|        NO|     0|      Pregnancy|      Diabetes|       External|\n",
            "| 500364|   82442376|      Caucasian|  Male| [30-40)|               2|                44|             1|             16|                0|               0|               0|               7|         None|     None|       No|         No|         No|            No|         No|           No|       No|       No|         No|          No|           No|      No|      No|          No|        No|     No|         No|     Up|                 No|                 No|                      No|                     No|                    No|    Ch|        Yes|        NO|     0|          Other|      Diabetes|    Circulatory|\n",
            "|  16680|   42519267|      Caucasian|  Male| [40-50)|               1|                51|             0|              8|                0|               0|               0|               5|         None|     None|       No|         No|         No|            No|         No|           No|   Steady|       No|         No|          No|           No|      No|      No|          No|        No|     No|         No| Steady|                 No|                 No|                      No|                     No|                    No|    Ch|        Yes|        NO|     0|      Neoplasms|     Neoplasms|       Diabetes|\n",
            "|  35754|   82637451|      Caucasian|  Male| [50-60)|               3|                31|             6|             16|                0|               0|               0|               9|         None|     None|       No|         No|         No|            No|         No|           No|       No|       No|         No|          No|           No|      No|      No|          No|        No|     No|         No| Steady|                 No|                 No|                      No|                     No|                    No|    No|        Yes|       >30|     0|    Circulatory|   Circulatory|       Diabetes|\n",
            "|  55842|   84259809|      Caucasian|  Male| [60-70)|               4|                70|             1|             21|                0|               0|               0|               7|         None|     None|   Steady|         No|         No|            No|     Steady|           No|       No|       No|         No|          No|           No|      No|      No|          No|        No|     No|         No| Steady|                 No|                 No|                      No|                     No|                    No|    Ch|        Yes|        NO|     0|    Circulatory|   Circulatory|       External|\n",
            "|  63768|  114882984|      Caucasian|  Male| [70-80)|               5|                73|             0|             12|                0|               0|               0|               8|         None|     None|       No|         No|         No|            No|         No|           No|       No|   Steady|         No|          No|           No|      No|      No|          No|        No|     No|         No|     No|                 No|                 No|                      No|                     No|                    No|    No|        Yes|       >30|     0|    Circulatory|   Respiratory|       Diabetes|\n",
            "|  12522|   48330783|      Caucasian|Female| [80-90)|              13|                68|             2|             28|                0|               0|               0|               8|         None|     None|       No|         No|         No|            No|         No|           No|   Steady|       No|         No|          No|           No|      No|      No|          No|        No|     No|         No| Steady|                 No|                 No|                      No|                     No|                    No|    Ch|        Yes|        NO|     0|    Circulatory|   Circulatory|   Sense Organs|\n",
            "|  15738|   63555939|      Caucasian|Female|[90-100)|              12|                33|             3|             18|                0|               0|               0|               8|         None|     None|       No|         No|         No|            No|         No|           No|       No|       No|         No|          No|       Steady|      No|      No|          No|        No|     No|         No| Steady|                 No|                 No|                      No|                     No|                    No|    Ch|        Yes|        NO|     0|    Circulatory|     Neoplasms|    Respiratory|\n",
            "|  28236|   89869032|AfricanAmerican|Female| [40-50)|               9|                47|             2|             17|                0|               0|               0|               9|         None|     None|       No|         No|         No|            No|         No|           No|       No|       No|         No|          No|           No|      No|      No|          No|        No|     No|         No| Steady|                 No|                 No|                      No|                     No|                    No|    No|        Yes|       >30|     0|       Diabetes|   Circulatory|         Injury|\n",
            "|  36900|   77391171|AfricanAmerican|  Male| [60-70)|               7|                62|             0|             11|                0|               0|               0|               7|         None|     None|       No|         No|         No|            No|         No|           No|       No|       Up|         No|          No|           No|      No|      No|          No|        No|     No|         No| Steady|                 No|                 No|                      No|                     No|                    No|    Ch|        Yes|       <30|     1|      Neoplasms|         Blood|      Neoplasms|\n",
            "|  40926|   85504905|      Caucasian|Female| [40-50)|               7|                60|             0|             15|                0|               1|               0|               8|         None|     None|   Steady|         Up|         No|            No|         No|           No|       No|       No|         No|          No|           No|      No|      No|          No|        No|     No|         No|   Down|                 No|                 No|                      No|                     No|                    No|    Ch|        Yes|       <30|     1|    Circulatory|      Diabetes|       Diabetes|\n",
            "|  42570|   77586282|      Caucasian|  Male| [80-90)|              10|                55|             1|             31|                0|               0|               0|               8|         None|     None|       No|         No|         No|            No|         No|           No|       No|       No|         No|          No|           No|      No|      No|          No|        No|     No|         No| Steady|                 No|                 No|                      No|                     No|                    No|    No|        Yes|        NO|     0|    Circulatory|   Circulatory|    Circulatory|\n",
            "|  62256|   49726791|AfricanAmerican|Female| [60-70)|               1|                49|             5|              2|                0|               0|               0|               8|         None|     None|       No|         No|         No|            No|         No|           No|       No|       No|         No|          No|           No|      No|      No|          No|        No|     No|         No| Steady|                 No|                 No|                      No|                     No|                    No|    No|        Yes|       >30|     0|    Respiratory|        Injury|  Genitourinary|\n",
            "|  73578|   86328819|AfricanAmerican|  Male| [60-70)|              12|                75|             5|             13|                0|               0|               0|               9|         None|     None|       No|         No|         No|            No|         No|           No|       No|       No|         No|          No|           No|      No|      No|          No|        No|     No|         No|     Up|                 No|                 No|                      No|                     No|                    No|    Ch|        Yes|        NO|     0|         Injury|   Respiratory|         Injury|\n",
            "|  77076|   92519352|AfricanAmerican|  Male| [50-60)|               4|                45|             4|             17|                0|               0|               0|               8|         None|     None|       No|         No|         No|            No|         No|           No|   Steady|       No|         No|          No|           No|      No|      No|          No|        No|     No|         No| Steady|                 No|                 No|                      No|                     No|                    No|    Ch|        Yes|       <30|     1|    Circulatory|   Circulatory|    Circulatory|\n",
            "|  84222|  108662661|      Caucasian|Female| [50-60)|               3|                29|             0|             11|                0|               0|               0|               3|         None|     None|       No|         No|         No|            No|         No|           No|       No|   Steady|         No|          No|           No|      No|      No|          No|        No|     No|         No|     No|                 No|                 No|                      No|                     No|                    No|    No|        Yes|        NO|     0|           Skin|     Neoplasms|       Diabetes|\n",
            "|  89682|  107389323|AfricanAmerican|  Male| [70-80)|               5|                35|             5|             23|                0|               0|               0|               9|         None|     None|       No|         No|         No|            No|         No|           No|       No|       No|         No|          No|           No|      No|      No|          No|        No|     No|         No| Steady|                 No|                 No|                      No|                     No|                    No|    No|        Yes|       >30|     0|    Circulatory|   Circulatory|    Circulatory|\n",
            "| 148530|   69422211|        Unknown|  Male| [70-80)|               6|                42|             2|             23|                0|               0|               0|               8|         None|     None|       No|         No|         No|            No|         No|           No|       No|     Down|         No|          No|           No|      No|      No|          No|        No|     No|         No| Steady|                 No|                 No|                      No|                     No|                    No|    Ch|        Yes|        NO|     0|Musculoskeletal|   Circulatory|Musculoskeletal|\n",
            "+-------+-----------+---------------+------+--------+----------------+------------------+--------------+---------------+-----------------+----------------+----------------+----------------+-------------+---------+---------+-----------+-----------+--------------+-----------+-------------+---------+---------+-----------+------------+-------------+--------+--------+------------+----------+-------+-----------+-------+-------------------+-------------------+------------------------+-----------------------+----------------------+------+-----------+----------+------+---------------+--------------+---------------+\n",
            "only showing top 20 rows\n",
            "\n"
          ]
        }
      ],
      "source": [
        "df_clean.show()"
      ]
    },
    {
      "cell_type": "markdown",
      "metadata": {
        "id": "Zwb8XtSPshJH"
      },
      "source": [
        "made a list of all the columns and want to use — including patient info, diagnosis groups, medications, and hospital stats.\n",
        "\n",
        "Have also marked which of those are categories like gender, race, and drug names.\n",
        "Then created a new DataFrame that keeps only these useful columns, ready for machine learning"
      ]
    },
    {
      "cell_type": "code",
      "execution_count": 36,
      "metadata": {
        "id": "WLLv5ClrpGvQ"
      },
      "outputs": [],
      "source": [
        "medication_cols = [\n",
        "    'metformin','max_glu_serum','A1Cresult','repaglinide', 'nateglinide', 'chlorpropamide', 'glimepiride',\n",
        "    'acetohexamide', 'glipizide', 'glyburide', 'tolbutamide', 'pioglitazone',\n",
        "    'rosiglitazone', 'acarbose', 'miglitol', 'troglitazone', 'tolazamide',\n",
        "    'examide', 'citoglipton', 'insulin', 'glyburide-metformin', 'glipizide-metformin',\n",
        "    'glimepiride-pioglitazone', 'metformin-rosiglitazone', 'metformin-pioglitazone'\n",
        "]\n",
        "features = [\n",
        "    'race', 'gender', 'age',  # Core categoricals\n",
        "    'diag_1_grouped', 'diag_2_grouped', 'diag_3_grouped',  # Grouped diagnoses\n",
        "    'change','diabetesMed'\n",
        "] + medication_cols + [  # All medications\n",
        "    'time_in_hospital', 'num_lab_procedures', 'num_procedures', 'num_medications',\n",
        "    'number_outpatient', 'number_emergency', 'number_inpatient', 'number_diagnoses',  # Numericals\n",
        "    'target'  # Target\n",
        "]\n",
        "\n",
        "categorical_columns = ['race', 'gender', 'age',  # Core categoricals\n",
        "    'diag_1_grouped', 'diag_2_grouped', 'diag_3_grouped',  # Grouped diagnoses\n",
        "    'change','diabetesMed']+medication_cols\n",
        "\n",
        "\n",
        "# Step 3: Vector Assembling\n",
        "numerical_cols = [\n",
        "    \"time_in_hospital\", \"num_lab_procedures\", \"num_procedures\",\n",
        "    \"num_medications\", \"number_outpatient\", \"number_emergency\",\n",
        "    \"number_inpatient\", \"number_diagnoses\"\n",
        "]\n",
        "\n",
        "\n",
        "df_final = df_clean.select(features)\n",
        "#df_final.show()"
      ]
    },
    {
      "cell_type": "code",
      "execution_count": 28,
      "metadata": {
        "id": "8rwnEdXWw7vk"
      },
      "outputs": [],
      "source": [
        "# All columns except 'target'\n",
        "feature_cols = [col for col in df_final.columns if col != 'target']\n",
        "\n",
        "# Categorical indices\n",
        "cat_indices = [feature_cols.index(col) for col in categorical_columns]"
      ]
    },
    {
      "cell_type": "code",
      "execution_count": 29,
      "metadata": {
        "id": "F8mQ_dmT1SR1"
      },
      "outputs": [],
      "source": [
        "# Features (X) and target (y)\n",
        "X = df_final[feature_cols] #can also used features\n",
        "y = df_final['target']"
      ]
    },
    {
      "cell_type": "code",
      "execution_count": 30,
      "metadata": {
        "colab": {
          "base_uri": "https://localhost:8080/"
        },
        "id": "cFZbjUmy1Seg",
        "outputId": "5894f830-164f-4afe-8baf-f680b59d3d86"
      },
      "outputs": [
        {
          "output_type": "stream",
          "name": "stdout",
          "text": [
            "+------+-----+\n",
            "|target|count|\n",
            "+------+-----+\n",
            "|     1|11357|\n",
            "|     0|90409|\n",
            "+------+-----+\n",
            "\n"
          ]
        }
      ],
      "source": [
        "df_final.groupBy(\"target\").count().show()"
      ]
    },
    {
      "cell_type": "markdown",
      "source": [
        "# Section 2: Sampling\n"
      ],
      "metadata": {
        "id": "s8r82dG819QP"
      }
    },
    {
      "cell_type": "markdown",
      "source": [
        "**Undersampling - 2 methods**\n",
        "\n",
        "Assignemd Member: Abu Qais and Mohd Ali Tahir"
      ],
      "metadata": {
        "id": "fA1ikG5l2Ab1"
      }
    },
    {
      "cell_type": "markdown",
      "source": [
        "**Random sampling**\n",
        "\n",
        "random undersample to balance classes, apply StringIndexer and OneHotEncoder to categorical columns, and assemble all features into a single vector\n"
      ],
      "metadata": {
        "id": "ovMffMG72KoZ"
      }
    },
    {
      "cell_type": "code",
      "source": [
        "from pyspark.sql.functions import rand\n",
        "# Step 1: Random Undersampling\n",
        "minority_df = df_final.filter(\"target = 1\")\n",
        "majority_df = df_final.filter(\"target = 0\")\n",
        "\n",
        "minority_count = minority_df.count()\n",
        "sampling_fraction = float(minority_count) / majority_df.count()\n",
        "majority_sampled_df = majority_df.sample(withReplacement=False, fraction=sampling_fraction, seed=42)\n",
        "\n",
        "balanced_df = minority_df.union(majority_sampled_df).orderBy(rand())\n",
        "\n",
        "indexers = [StringIndexer(inputCol=col, outputCol=col + \"_idx\", handleInvalid='keep') for col in categorical_columns]\n",
        "encoders = [OneHotEncoder(inputCol=col + \"_idx\", outputCol=col + \"_ohe\") for col in categorical_columns]\n",
        "\n",
        "\n",
        "# Step 3: Vector Assembling\n",
        "numeric_cols = [\n",
        "    \"time_in_hospital\", \"num_lab_procedures\", \"num_procedures\",\n",
        "    \"num_medications\", \"number_outpatient\", \"number_emergency\",\n",
        "    \"number_inpatient\", \"number_diagnoses\"\n",
        "]\n",
        "\n",
        "input_features = [col + \"_ohe\" for col in categorical_columns] + numeric_cols\n",
        "assembler = VectorAssembler(inputCols=input_features, outputCol=\"features\")\n",
        "\n"
      ],
      "metadata": {
        "id": "KosA9_9f2BuS"
      },
      "execution_count": 33,
      "outputs": []
    },
    {
      "cell_type": "markdown",
      "source": [
        "**Stratified Sampling**\n",
        "\n",
        "processed stratified undersample majority class by age, index and one-hot encode categorical columns, and assemble all features into a single feature vector\n"
      ],
      "metadata": {
        "id": "2q_im97k2L6O"
      }
    },
    {
      "cell_type": "code",
      "source": [
        "from pyspark.sql.functions import rand\n",
        "# this one is stratified sampling\n",
        "minority_df = df_final.filter(\"target = 1\")\n",
        "majority_df = df_final.filter(\"target = 0\")\n",
        "\n",
        "minority_count = minority_df.count()\n",
        "majority_count = majority_df.count()\n",
        "sampling_fraction = float(minority_count) / majority_count\n",
        "\n",
        "# 3. Build a fraction map for each age group\n",
        "ages = [row.age for row in majority_df.select(\"age\").distinct().collect()]\n",
        "fractions = {age: sampling_fraction for age in ages}\n",
        "\n",
        "majority_stratified_df = majority_df.stat.sampleBy(\"age\",fractions, seed=13)\n",
        "\n",
        "balanced_df = minority_df.union(majority_stratified_df)\n",
        "\n",
        "indexers = [StringIndexer(inputCol=col, outputCol=col + \"_idx\", handleInvalid='keep') for col in categorical_columns]\n",
        "encoders = [OneHotEncoder(inputCol=col + \"_idx\", outputCol=col + \"_ohe\") for col in categorical_columns]\n",
        "\n",
        "\n",
        "# Step 3: Vector Assembling\n",
        "numeric_cols = [\n",
        "    \"time_in_hospital\", \"num_lab_procedures\", \"num_procedures\",\n",
        "    \"num_medications\", \"number_outpatient\", \"number_emergency\",\n",
        "    \"number_inpatient\", \"number_diagnoses\"\n",
        "]\n",
        "\n",
        "\n",
        "input_features = [col + \"_ohe\" for col in categorical_columns] + numeric_cols\n",
        "assembler = VectorAssembler(inputCols=input_features, outputCol=\"features\")\n"
      ],
      "metadata": {
        "id": "xvaJQ5RJ2NN-"
      },
      "execution_count": 34,
      "outputs": []
    },
    {
      "cell_type": "markdown",
      "source": [
        "# **Oversampling**\n",
        "\n",
        "Assigned Member : Abu Qais, Harsh Moradiya, Muneeb Amer"
      ],
      "metadata": {
        "id": "dU38ZKdO2P9s"
      }
    },
    {
      "cell_type": "markdown",
      "source": [
        "SMOTENC:\n",
        "The dataset had way fewer examples of patients readmitted in <30 days.\n",
        "SMOTENC creates new, fake-but-realistic rows for those rare cases —\n",
        "using the existing data as a guide.\n",
        "Now  data has a fair balance between the two classes — ready for training"
      ],
      "metadata": {
        "id": "Hz0pgRNG0Ujo"
      }
    },
    {
      "cell_type": "code",
      "source": [
        "\n",
        "smotenc = SMOTENC(categorical_features=cat_indices, random_state=1)\n",
        "X_res, y_res = smotenc.fit_resample(X, y)\n",
        "\n",
        "# Step 6: Check class distribution after SMOTENC\n",
        "print(\"\\nClass distribution after SMOTENC:\")\n",
        "print(pd.Series(y_res).value_counts())\n",
        "\n",
        "# resampled dataframe\n",
        "df_balanced = pd.DataFrame(X_res, columns=X.columns)\n",
        "df_balanced[\"target\"] = y_res"
      ],
      "metadata": {
        "id": "aVGtCbh60K7y"
      },
      "execution_count": null,
      "outputs": []
    },
    {
      "cell_type": "code",
      "source": [
        "#convert to spark df\n",
        "df_balanced_spark = spark.createDataFrame(df_balanced)"
      ],
      "metadata": {
        "id": "7QZkjkd81EzJ"
      },
      "execution_count": null,
      "outputs": []
    },
    {
      "cell_type": "code",
      "source": [
        "df_balanced_spark.groupBy(\"target\").count().orderBy(\"target\").show()\n",
        "df_balanced_spark.show()"
      ],
      "metadata": {
        "id": "OJViWKnN1Urj"
      },
      "execution_count": null,
      "outputs": []
    },
    {
      "cell_type": "markdown",
      "source": [
        "**Smote BD**\n",
        "\n",
        "SMOTE-BD: custom partition-based generation of synthetic minority samples via numeric interpolation and categorical sampling, then merge with original data and shuffle for balanced classes\n",
        "\n",
        "Logic: compute distances to all training samples, select the k nearest neighbors, and predict the label by majority vote of those neighbors\n",
        "\n",
        "Assigned member: Abu Qais, Harsh Moradiya"
      ],
      "metadata": {
        "id": "Sqo9NCLX2aaj"
      }
    },
    {
      "cell_type": "code",
      "source": [
        "# Step 1: Extract minority class samples\n",
        "minority_df = df_final.filter(\"target = 1\").select(features)  # features = numeric_cols + categorical_columns\n",
        "print(f\"Minority class count: {minority_df.count()}\")\n",
        "\n",
        "# Step 2: Define schema\n",
        "from pyspark.sql.types import StructType, StructField, DoubleType, StringType\n",
        "from pyspark.sql.functions import lit\n",
        "\n",
        "schema = StructType(\n",
        "    [StructField(col, DoubleType(), True) for col in numeric_cols] +\n",
        "    [StructField(col, StringType(), True) for col in categorical_columns]\n",
        ")\n",
        "\n",
        "# Step 3: Define SMOTE-BD function\n",
        "def smote_partition_categorical(iterator, k=3, N=2):\n",
        "    from sklearn.neighbors import NearestNeighbors\n",
        "    import numpy as np\n",
        "    import random\n",
        "\n",
        "    data = list(iterator)\n",
        "    cleaned_data = []\n",
        "\n",
        "    for row in data:\n",
        "        try:\n",
        "            numeric_part = [float(row[col]) if row[col] is not None else 0.0 for col in numeric_cols]\n",
        "            categorical_part = [str(row[col]) if row[col] is not None else \"\" for col in categorical_columns]\n",
        "            cleaned_data.append((numeric_part, categorical_part))\n",
        "        except:\n",
        "            continue\n",
        "\n",
        "    if len(cleaned_data) <= k:\n",
        "        return []\n",
        "\n",
        "    X_num = np.array([row[0] for row in cleaned_data])\n",
        "    X_cat = [row[1] for row in cleaned_data]\n",
        "\n",
        "    try:\n",
        "        nn = NearestNeighbors(n_neighbors=k+1).fit(X_num)\n",
        "        neighbors = nn.kneighbors(X_num, return_distance=False)\n",
        "    except:\n",
        "        return []\n",
        "\n",
        "    synthetic = []\n",
        "    for i in range(len(X_num)):\n",
        "        for _ in range(N):\n",
        "            try:\n",
        "                nn_index = random.choice(neighbors[i][1:])  # Exclude self\n",
        "                gap = random.random()\n",
        "                synth_num = X_num[i] + gap * (X_num[nn_index] - X_num[i])\n",
        "                base_cat = X_cat[i]\n",
        "                neighbor_cat = X_cat[nn_index]\n",
        "                synth_cat = [\n",
        "                    random.choice([base_cat[j], neighbor_cat[j]]) for j in range(len(base_cat))\n",
        "                ]\n",
        "\n",
        "                #  Fix: convert numpy float64 to native Python float\n",
        "                synth_num_py = [float(x.item()) if hasattr(x, 'item') else float(x) for x in synth_num]\n",
        "                full_row = tuple(synth_num_py) + tuple(synth_cat)\n",
        "\n",
        "                synthetic.append(full_row)\n",
        "            except:\n",
        "                continue\n",
        "\n",
        "    return synthetic\n",
        "\n",
        "# Step 4: Apply SMOTE in partitions\n",
        "\n",
        "synthetic_rdd = minority_df.rdd.mapPartitions(lambda part: smote_partition_categorical(part, k=3, N=4))\n",
        "\n",
        "# Step 5: Create DataFrame from synthetic samples\n",
        "synthetic_df = spark.createDataFrame(synthetic_rdd, schema=schema).withColumn(\"target\", lit(1))\n",
        "\n",
        "print(f\"Synthetic sample count: {synthetic_df.count()}\")\n",
        "\n",
        "# Step 7: Combine original and synthetic data\n",
        "final_df = df_final.unionByName(synthetic_df)\n",
        "\n",
        "# Optional: Shuffle final data\n",
        "from pyspark.sql.functions import rand\n",
        "df_final_smotebd = final_df.orderBy(rand())\n",
        "\n",
        "# Optional: Check final class balance\n",
        "df_final_smotebd.groupBy(\"target\").count().show()\n"
      ],
      "metadata": {
        "id": "9xpfuQMT2Ptv",
        "colab": {
          "base_uri": "https://localhost:8080/"
        },
        "outputId": "e3d55963-431e-4cd9-ffbe-0127aa4f708d"
      },
      "execution_count": 37,
      "outputs": [
        {
          "output_type": "stream",
          "name": "stdout",
          "text": [
            "Minority class count: 11357\n",
            "Synthetic sample count: 45428\n",
            "+------+-----+\n",
            "|target|count|\n",
            "+------+-----+\n",
            "|     1|56785|\n",
            "|     0|90409|\n",
            "+------+-----+\n",
            "\n"
          ]
        }
      ]
    },
    {
      "cell_type": "code",
      "source": [
        "df_final_smotebd.count()"
      ],
      "metadata": {
        "id": "VeYyBEk82b_4"
      },
      "execution_count": null,
      "outputs": []
    },
    {
      "cell_type": "markdown",
      "source": [
        "**Smote bd Borderline**\n",
        "\n",
        "Borderline SMOTE-BD: broadcast full dataset, use k-NN to find minority samples near class boundary, generate synthetic examples by interpolating with minority neighbors, and union with original data\n",
        "\n",
        "Differences: Borderline-SMOTE-BD only augments minority examples that lie near the class boundary (i.e., those with many majority-class neighbors), focusing on hard-to-classify regions.\n",
        "\n",
        "Asiigned Member: Abu Qais, Muneeb Amer\n",
        "\n"
      ],
      "metadata": {
        "id": "Dcyp3ybE2fet"
      }
    },
    {
      "cell_type": "code",
      "source": [
        "global_rdd = df_final.select(numerical_cols + categorical_columns + [\"target\"]) \\\n",
        "               .rdd.map(lambda r: (\n",
        "                     [float(r[col]) for col in numerical_cols],         # numeric features\n",
        "                     [r[col]       for col in categorical_columns],        # categorical features\n",
        "                     int(r[\"target\"])                                   # class label\n",
        "               ))\n",
        "\n",
        "global_data = global_rdd.collect()\n",
        "X_num_global = [nd for nd, cd, lab in global_data]\n",
        "X_cat_global = [cd for nd, cd, lab in global_data]\n",
        "Y_global     = [lab for nd, cd, lab in global_data]\n",
        "\n",
        "# 4.2 Broadcast to all executors\n",
        "bc_X_num = spark.sparkContext.broadcast(X_num_global)\n",
        "bc_X_cat = spark.sparkContext.broadcast(X_cat_global)\n",
        "bc_Y     = spark.sparkContext.broadcast(Y_global)\n",
        "\n",
        "# 5. Borderline-SMOTE-BD function with Python casting\n",
        "def smote_bd_borderline_partition(iterator, k=5, N=2):\n",
        "    import numpy as np\n",
        "    from sklearn.neighbors import NearestNeighbors\n",
        "    import random\n",
        "\n",
        "    X_all = bc_X_num.value\n",
        "    Y_all = bc_Y.value\n",
        "    nn_model = NearestNeighbors(n_neighbors=k+1).fit(np.array(X_all))\n",
        "\n",
        "    synthetic = []\n",
        "    for num_feat, cat_feat in iterator:\n",
        "        # all num_feat entries are already Python floats\n",
        "        neigh_idxs = nn_model.kneighbors([num_feat], return_distance=False)[0][1:]\n",
        "        maj_count = sum(1 for idx in neigh_idxs if Y_all[idx] == 0)\n",
        "\n",
        "        if maj_count > k // 2:\n",
        "            # only minority neighbors\n",
        "            min_neighs = [idx for idx in neigh_idxs if Y_all[idx] == 1]\n",
        "            if not min_neighs:\n",
        "                continue\n",
        "\n",
        "            for _ in range(N):\n",
        "                nbr = random.choice(min_neighs)\n",
        "                neighbor_num = X_all[nbr]\n",
        "                gap = random.random()\n",
        "\n",
        "                # interpolate numerics, casting each to Python float\n",
        "                synth_num = [\n",
        "                    float(num_feat[i] + gap * (neighbor_num[i] - num_feat[i]))\n",
        "                    for i in range(len(num_feat))\n",
        "                ]\n",
        "                # pick categories\n",
        "                neighbor_cat = bc_X_cat.value[nbr]\n",
        "                synth_cat = [\n",
        "                    random.choice([cat_feat[i], neighbor_cat[i]])\n",
        "                    for i in range(len(cat_feat))\n",
        "                ]\n",
        "\n",
        "                synthetic.append(tuple(synth_num) + tuple(synth_cat))\n",
        "\n",
        "    return synthetic\n",
        "\n",
        "# 6.1 Extract only minority rows (target == 1) with numeric + categorical\n",
        "minority_rdd = df_final.filter(\"target = 1\") \\\n",
        "    .select(numerical_cols + categorical_columns) \\\n",
        "    .rdd \\\n",
        "    .map(lambda r: (\n",
        "        [float(r[c]) for c in numerical_cols],\n",
        "        [r[c]       for c in categorical_columns]\n",
        "    ))\n",
        "\n",
        "\n",
        "# 6.2 Repartition for parallelism\n",
        "# minority_parted = minority_rdd.repartition(4)\n",
        "\n",
        "# 6.3 MapPartitions to generate synthetic samples\n",
        "synthetic_rdd = minority_rdd.mapPartitions(\n",
        "    lambda part: smote_bd_borderline_partition(part, k=3, N=8)\n",
        ")\n",
        "# 7.1 Define the schema\n",
        "schema = StructType(\n",
        "    [StructField(c, DoubleType(), True) for c in numerical_cols] +\n",
        "    [StructField(c, StringType(), True) for c in categorical_columns]\n",
        ")\n",
        "# 7.2 Build DataFrame\n",
        "synthetic_df = spark.createDataFrame(synthetic_rdd, schema=schema)\n",
        "\n",
        "# 7.3 Add the 'target' column = 1 for all synthetic rows\n",
        "from pyspark.sql.functions import lit\n",
        "synthetic_df = synthetic_df.withColumn(\"target\", lit(1))\n",
        "\n",
        "# 8.1 Union\n",
        "df_final_smotebd_borderline = df_final.unionByName(synthetic_df)\n",
        "# (Optional) Shuffle if you like\n",
        "df_fianl_smotebd_borderline = df_final_smotebd_borderline.orderBy(rand())\n",
        "# 8.2 Check balance\n",
        "df_final_smotebd_borderline.groupBy(\"target\").count().show()\n"
      ],
      "metadata": {
        "id": "Va3GAPRz2jHy",
        "colab": {
          "base_uri": "https://localhost:8080/"
        },
        "outputId": "9378b512-fe66-4903-bdc1-dd79ed215d97"
      },
      "execution_count": 38,
      "outputs": [
        {
          "output_type": "stream",
          "name": "stdout",
          "text": [
            "+------+-----+\n",
            "|target|count|\n",
            "+------+-----+\n",
            "|     1|40485|\n",
            "|     0|90409|\n",
            "+------+-----+\n",
            "\n"
          ]
        }
      ]
    },
    {
      "cell_type": "markdown",
      "source": [
        "**Adaptive Borderline Smote BD**\n",
        "\n",
        "Adaptive Borderline-SMOTE-BD: broadcast global KNN model and data, adaptively generate synthetic minority samples based on neighbor majority ratio via numeric interpolation and categorical sampling, then merge and shuffle.\n",
        "\n",
        "Adaptive Borderline-SMOTE-BD scales the number of synthetic samples per instance based on its local majority-neighbor ratio, producing more examples for harder (more imbalanced) cases.\n",
        "\n",
        " Maths logic:\n",
        " For each boundary minority instance:\n",
        "\n",
        "   r    = maj_count / k\n",
        "\n",
        "   N_i  = max(1, round(N * r))\n",
        "\n",
        "   repeat N_i times:\n",
        "\n",
        "     • u      ~ Uniform(0,1)\n",
        "     • x_syn  = x_i + u * (x_nb - x_i)\n",
        "     • for each categorical feature c_syn = random choice of {c_i, c_nb}\n",
        "\n",
        "\n",
        "Assigned  Members: Abu Qais, Muneeb Amer"
      ],
      "metadata": {
        "id": "vwk_rs0r2l7-"
      }
    },
    {
      "cell_type": "code",
      "source": [
        "\n",
        "from pyspark.sql.types import StructType, StructField, DoubleType, StringType\n",
        "from pyspark.sql.functions import lit, rand\n",
        "\n",
        "# 1. Collect global data\n",
        "global_rdd = df_final.select(numerical_cols + categorical_columns + [\"target\"]) \\\n",
        "    .rdd.map(lambda r: (\n",
        "        [float(r[col]) for col in numerical_cols],\n",
        "        [r[col]       for col in categorical_columns],\n",
        "        int(r[\"target\"])\n",
        "    ))\n",
        "\n",
        "global_data = global_rdd.collect()\n",
        "X_num_global = [nd for nd, cd, lab in global_data]\n",
        "X_cat_global = [cd for nd, cd, lab in global_data]\n",
        "Y_global     = [lab for nd, cd, lab in global_data]\n",
        "\n",
        "# 2. Broadcast raw arrays (for categories & labels)\n",
        "bc_X_cat = spark.sparkContext.broadcast(X_cat_global)\n",
        "bc_Y     = spark.sparkContext.broadcast(Y_global)\n",
        "\n",
        "# 3. Train NearestNeighbors once on driver and broadcast the fitted model\n",
        "import numpy as np\n",
        "from sklearn.neighbors import NearestNeighbors\n",
        "\n",
        "_driver_nn = NearestNeighbors(n_neighbors=3+1).fit(np.array(X_num_global))\n",
        "bc_nn_model = spark.sparkContext.broadcast(_driver_nn)\n",
        "\n",
        "# 4. Adaptive Borderline-SMOTE-BD partition function\n",
        "def adaptive_smote_bd_borderline_partition(iterator, k=3, N=8):\n",
        "    import random\n",
        "\n",
        "    # retrieve broadcasts\n",
        "    X_all   = bc_nn_model.value._fit_X       # training numerics stored inside the model\n",
        "    Y_all   = bc_Y.value\n",
        "    nn_model = bc_nn_model.value             # already-fitted model\n",
        "\n",
        "    synth = []\n",
        "    for num_feat, cat_feat in iterator:\n",
        "        neigh_idxs = nn_model.kneighbors([num_feat], return_distance=False)[0][1:]\n",
        "        maj_count  = sum(1 for idx in neigh_idxs if Y_all[idx] == 0)\n",
        "\n",
        "        if maj_count > k // 2:\n",
        "            ratio = maj_count / float(k)\n",
        "            Ni    = max(1, int(round(N * ratio)))\n",
        "\n",
        "            min_neighs = [idx for idx in neigh_idxs if Y_all[idx] == 1]\n",
        "            if not min_neighs:\n",
        "                continue\n",
        "\n",
        "            for _ in range(Ni):\n",
        "                nbr         = random.choice(min_neighs)\n",
        "                neighbor_num = X_all[nbr]\n",
        "                gap          = random.random()\n",
        "\n",
        "                # interpolate numerics\n",
        "                synth_num = [\n",
        "                    float(num_feat[i] + gap * (neighbor_num[i] - num_feat[i]))\n",
        "                    for i in range(len(num_feat))\n",
        "                ]\n",
        "                # choose categoricals\n",
        "                neighbor_cat = bc_X_cat.value[nbr]\n",
        "                synth_cat    = [\n",
        "                    random.choice([cat_feat[i], neighbor_cat[i]])\n",
        "                    for i in range(len(cat_feat))\n",
        "                ]\n",
        "\n",
        "                synth.append(tuple(synth_num) + tuple(synth_cat))\n",
        "\n",
        "    return synth\n",
        "\n",
        "# 5. Extract minority RDD\n",
        "minority_rdd = (\n",
        "    df_final\n",
        "    .filter(\"target = 1\")\n",
        "    .select(numerical_cols + categorical_columns)\n",
        "    .rdd\n",
        "    .map(lambda r: (\n",
        "        [float(r[c]) for c in numerical_cols],\n",
        "        [r[c]       for c in categorical_columns]\n",
        "    ))\n",
        ")\n",
        "\n",
        "# 6. Generate synthetic samples (no repartition)\n",
        "synthetic_rdd = minority_rdd.mapPartitions(\n",
        "    lambda part: adaptive_smote_bd_borderline_partition(part, k=3, N=16)\n",
        ")\n",
        "\n",
        "# 7. Build synthetic DataFrame\n",
        "schema = StructType(\n",
        "    [StructField(c, DoubleType(), True) for c in numerical_cols] +\n",
        "    [StructField(c, StringType(), True) for c in categorical_columns]\n",
        ")\n",
        "synthetic_df = (\n",
        "    spark.createDataFrame(synthetic_rdd, schema=schema)\n",
        "         .withColumn(\"target\", lit(1))\n",
        ")\n",
        "\n",
        "# 8. Union and shuffle\n",
        "df_final_smotebd_borderline_tuned = (\n",
        "    df_final.unionByName(synthetic_df)\n",
        "            .orderBy(rand())\n",
        ")\n",
        "\n",
        "# 9. Check balance\n",
        "df_final_smotebd_borderline_tuned.groupBy(\"target\").count().show()\n"
      ],
      "metadata": {
        "id": "tQT6rK972w9J",
        "colab": {
          "base_uri": "https://localhost:8080/"
        },
        "outputId": "5a46889d-1aff-4ba1-ea20-179a5b089610"
      },
      "execution_count": 39,
      "outputs": [
        {
          "output_type": "stream",
          "name": "stdout",
          "text": [
            "+------+-----+\n",
            "|target|count|\n",
            "+------+-----+\n",
            "|     1|51408|\n",
            "|     0|90409|\n",
            "+------+-----+\n",
            "\n"
          ]
        }
      ]
    },
    {
      "cell_type": "markdown",
      "source": [
        "**Exact Borderline SMOTE BD**\n",
        "\n",
        " calculate total synthetic samples to equalize classes, assign base and leftover counts per minority row, generate each via KNN interpolation with categorical sampling, then union and shuffle the final balanced dataset.\n",
        "\n",
        " Assigned Member: Abu Qais, Muneeb Amer, Mohd Ali Tahir"
      ],
      "metadata": {
        "id": "LAq7Zet221MM"
      }
    },
    {
      "cell_type": "code",
      "source": [
        "counts    = df_final.groupBy(\"target\").count().collect()\n",
        "count_map = {row[\"target\"]: row[\"count\"] for row in counts}\n",
        "maj_count = count_map.get(0, 0)\n",
        "min_count = count_map.get(1, 0)\n",
        "\n",
        "print(f\"Majority = {maj_count:,}, Minority = {min_count:,}\")\n",
        "total_needed = max(0, maj_count - min_count)\n",
        "if total_needed == 0:\n",
        "    print(\"Already balanced—no synthetic needed.\")\n",
        "else:\n",
        "    print(f\"Need to generate {total_needed:,} synthetic minority samples.\")\n",
        "\n",
        "    N_base   = total_needed // min_count\n",
        "    leftover = total_needed - (N_base * min_count)\n",
        "    print(f\" → {N_base} per minority row, with {leftover} extra on specific rows.\")\n",
        "\n",
        "    all_minority_indices = list(range(min_count))\n",
        "    leftover_indices = set(random.sample(all_minority_indices, leftover))\n",
        "    bc_leftover = spark.sparkContext.broadcast(leftover_indices)\n",
        "\n",
        "    k = 3  # neighbors to consider (excluding self)\n",
        "    global_rdd = (\n",
        "        df_final\n",
        "        .select(numerical_cols + categorical_columns + [\"target\"])\n",
        "        .rdd\n",
        "        .map(lambda r: (\n",
        "            [float(r[c]) for c in numerical_cols],\n",
        "            [r[c]       for c in categorical_columns],\n",
        "            int(r[\"target\"])\n",
        "        ))\n",
        "    )\n",
        "    data = global_rdd.collect()\n",
        "    X_num = [nd for nd, cd, lab in data]\n",
        "    X_cat = [cd for nd, cd, lab in data]\n",
        "    Y     = [lab for nd, cd, lab in data]\n",
        "\n",
        "    driver_nn = NearestNeighbors(n_neighbors=k+1).fit(np.array(X_num))\n",
        "\n",
        "    bc_nn_model = spark.sparkContext.broadcast(driver_nn)\n",
        "    bc_X_cat    = spark.sparkContext.broadcast(X_cat)\n",
        "    bc_Y        = spark.sparkContext.broadcast(Y)\n",
        "\n",
        "    def smote_bd_exact_partition(iterator, k=k, N=N_base, leftover_set=bc_leftover.value):\n",
        "        nn_model = bc_nn_model.value\n",
        "        X_all    = nn_model._fit_X\n",
        "        Y_all    = bc_Y.value\n",
        "        synth    = []\n",
        "\n",
        "        for idx, num_feat, cat_feat in iterator:\n",
        "            # find k+1 neighbors, skip self\n",
        "            neighs = nn_model.kneighbors([num_feat], return_distance=False)[0][1:]\n",
        "\n",
        "            # decide exact Ni = base + (1 if this idx is in leftover_set)\n",
        "            Ni = N + (1 if idx in leftover_set else 0)\n",
        "\n",
        "            # pick minority neighbors if possible, else fall back\n",
        "            min_neighs = [i for i in neighs if Y_all[i] == 1]\n",
        "            if not min_neighs:\n",
        "                min_neighs = list(neighs)\n",
        "\n",
        "            for _ in range(Ni):\n",
        "                nbr          = random.choice(min_neighs)\n",
        "                neighbor_num = X_all[nbr]\n",
        "                gap          = random.random()\n",
        "\n",
        "                # interpolate numeric features\n",
        "                synth_num = [\n",
        "                    float(num_feat[i] + gap * (neighbor_num[i] - num_feat[i]))\n",
        "                    for i in range(len(num_feat))\n",
        "                ]\n",
        "                # fuse categorical features\n",
        "                neighbor_cat = bc_X_cat.value[nbr]\n",
        "                synth_cat    = [\n",
        "                    random.choice([cat_feat[i], neighbor_cat[i]])\n",
        "                    for i in range(len(cat_feat))\n",
        "                ]\n",
        "\n",
        "                synth.append(tuple(synth_num) + tuple(synth_cat))\n",
        "\n",
        "        return synth\n",
        "    minority_indexed_rdd = (\n",
        "        df_final\n",
        "        .filter(\"target = 1\")\n",
        "        .select(numerical_cols + categorical_columns)\n",
        "        .rdd\n",
        "        .map(lambda r: (\n",
        "            [float(r[c]) for c in numerical_cols],\n",
        "            [r[c]       for c in categorical_columns]\n",
        "        ))\n",
        "        .zipWithIndex()                       # ( ([nums], [cats]), idx )\n",
        "        .map(lambda pair: (pair[1], pair[0][0], pair[0][1]))  # (idx, nums, cats)\n",
        "    )\n",
        "\n",
        "    synthetic_rdd = minority_indexed_rdd.mapPartitions(smote_bd_exact_partition)\n",
        "\n",
        "    schema = StructType(\n",
        "        [StructField(c, DoubleType(), True) for c in numerical_cols] +\n",
        "        [StructField(c, StringType(), True) for c in categorical_columns]\n",
        "    )\n",
        "    synthetic_df = (\n",
        "        spark.createDataFrame(synthetic_rdd, schema=schema)\n",
        "             .withColumn(\"target\", lit(1))\n",
        "    )\n",
        "\n",
        "    df_balanced = df_final.unionByName(synthetic_df).orderBy(rand())\n",
        "\n",
        "    df_balanced.groupBy(\"target\").count().show()\n"
      ],
      "metadata": {
        "id": "HuU_g3dt25Ci"
      },
      "execution_count": null,
      "outputs": []
    },
    {
      "cell_type": "markdown",
      "metadata": {
        "id": "pHrMkGhOW8s0"
      },
      "source": [
        "# Section 3: Partitioning"
      ]
    },
    {
      "cell_type": "markdown",
      "metadata": {
        "id": "BiB6kfT6YnG4"
      },
      "source": [
        "# Hybrid Partitioning"
      ]
    },
    {
      "cell_type": "markdown",
      "metadata": {
        "id": "Z5uyo-NUFTMR"
      },
      "source": [
        "Performs hybrid partitioning by first bucketizing selected numeric columns using specified widths, then generating a composite partition key by concatenating the bucketed values. It repartitions the DataFrame into the desired number of partitions based on this key. Our goal is to improve data locality and distribution\n",
        "\n",
        "Assigned Team Member: Muneeb , Harsh Moradiya"
      ]
    },
    {
      "cell_type": "code",
      "execution_count": null,
      "metadata": {
        "id": "pmBJ06e8XNS9"
      },
      "outputs": [],
      "source": [
        "def hybrid_partition(df, num_partitions: int, buckets: dict):\n",
        "    tmp_df = df\n",
        "    for bcol, (orig, width) in buckets.items():\n",
        "        tmp_df = tmp_df.withColumn(bcol, floor(col(orig) / width))\n",
        "    # build key from all buckets\n",
        "    key_cols = [bcol for bcol in buckets]\n",
        "    tmp_df = tmp_df.withColumn('partition_key', concat_ws('_', *[col(c).cast('string') for c in key_cols]))\n",
        "    return tmp_df.repartition(num_partitions, 'partition_key')"
      ]
    },
    {
      "cell_type": "code",
      "execution_count": null,
      "metadata": {
        "id": "8Xpq2w0-XWBr"
      },
      "outputs": [],
      "source": [
        "hybrid_partition_df = hybrid_partition(df_balanced_spark, 2, {'time_bucket': ('time_in_hospital', 3), 'medication_bucket': ('num_medications', 5), 'diagnosis_bucket': ('number_diagnoses', 2)})"
      ]
    },
    {
      "cell_type": "markdown",
      "metadata": {
        "id": "faXZbU-pY3OB"
      },
      "source": [
        "# Random Partitioning\n",
        "\n",
        "This function performs random partitioning by evenly distributing the DataFrame across the specified number of partitions. No specific column is used; partitioning is uniform and arbitrary.\n",
        "\n",
        "Assigned Team Member: Muneeb, mohd ali tahir"
      ]
    },
    {
      "cell_type": "code",
      "execution_count": null,
      "metadata": {
        "id": "6vksWOTdY6a8"
      },
      "outputs": [],
      "source": [
        "def random_partition(df, num_partitions: int):\n",
        "    return df.repartition(num_partitions)"
      ]
    },
    {
      "cell_type": "code",
      "execution_count": null,
      "metadata": {
        "id": "RtKtKMLAZM6d"
      },
      "outputs": [],
      "source": [
        "random_partition_df = random_partition(df_balanced_spark, 4)"
      ]
    },
    {
      "cell_type": "markdown",
      "source": [
        "Function to count partitions in the given dataframe"
      ],
      "metadata": {
        "id": "4KA1hWsmtLY3"
      }
    },
    {
      "cell_type": "code",
      "execution_count": null,
      "metadata": {
        "id": "YXUwP3oqI7hN"
      },
      "outputs": [],
      "source": [
        "def count_per_partition(df):\n",
        "    return df.rdd.mapPartitions(lambda rows: [sum(1 for _ in rows)]).collect()"
      ]
    },
    {
      "cell_type": "code",
      "execution_count": null,
      "metadata": {
        "colab": {
          "base_uri": "https://localhost:8080/"
        },
        "id": "TF2yPSWSI8qF",
        "outputId": "5adfb303-94f7-4c5f-fdcc-52883d3a2133"
      },
      "outputs": [
        {
          "output_type": "stream",
          "name": "stdout",
          "text": [
            "Partition Sizes: [45204, 45205, 45205, 45204]\n",
            "Total Records: 180818\n",
            "Number of Partitions: 4\n"
          ]
        }
      ],
      "source": [
        "partition_sizes = count_per_partition(random_partition_df)\n",
        "print(\"Partition Sizes:\", partition_sizes)\n",
        "print(\"Total Records:\", sum(partition_sizes))\n",
        "print(\"Number of Partitions:\", len(partition_sizes))"
      ]
    },
    {
      "cell_type": "code",
      "source": [
        "partition_sizes = count_per_partition(hybrid_partition_df)\n",
        "print(\"Random partition sizes:\", partition_sizes)\n",
        "print(\"Total Records:\", sum(partition_sizes))\n",
        "print(\"Number of Partitions:\", len(partition_sizes))\n",
        "\n",
        "# Hybrid partition (32 partitions):\n",
        "hybrid_sizes = count_per_partition(hybrid_partition_df)\n",
        "print(\"Hybrid partition sizes:\", hybrid_sizes)\n",
        "print(\"Total Records:\", sum(hybrid_sizes))\n",
        "print(\"Number of Partitions:\", len(hybrid_sizes))"
      ],
      "metadata": {
        "colab": {
          "base_uri": "https://localhost:8080/"
        },
        "id": "X7YBtFfxHy2k",
        "outputId": "b75ebf95-955c-4983-c314-4719b8b3d5a2"
      },
      "execution_count": null,
      "outputs": [
        {
          "output_type": "stream",
          "name": "stdout",
          "text": [
            "Random partition sizes: [73411, 107407]\n",
            "Total Records: 180818\n",
            "Number of Partitions: 2\n",
            "Hybrid partition sizes: [73411, 107407]\n",
            "Total Records: 180818\n",
            "Number of Partitions: 2\n"
          ]
        }
      ]
    },
    {
      "cell_type": "markdown",
      "metadata": {
        "id": "cWEMe6wpX9EO"
      },
      "source": [
        "Partition stats"
      ]
    },
    {
      "cell_type": "code",
      "execution_count": null,
      "metadata": {
        "id": "v3UPfktuYAEY"
      },
      "outputs": [],
      "source": [
        "def get_partition_stats(df):\n",
        "    dist = df.withColumn('pid', spark_partition_id()) \\\n",
        "               .groupBy('pid').count() \\\n",
        "               .orderBy('pid')\n",
        "    pdf = dist.toPandas()['count']\n",
        "    stats = {\n",
        "        'counts': pdf.tolist(),\n",
        "        'mean': float(pdf.mean()),\n",
        "        'std': float(pdf.std()),\n",
        "        'min': int(pdf.min()),\n",
        "        'max': int(pdf.max()),\n",
        "        'skew_ratio': float(pdf.max() / pdf.min()) if pdf.min() > 0 else np.inf\n",
        "    }\n",
        "    return stats\n"
      ]
    },
    {
      "cell_type": "code",
      "execution_count": null,
      "metadata": {
        "colab": {
          "base_uri": "https://localhost:8080/"
        },
        "id": "d-s1nkdiYIJ4",
        "outputId": "29366fdc-403d-48fd-e756-9746e0d59237"
      },
      "outputs": [
        {
          "output_type": "stream",
          "name": "stdout",
          "text": [
            "{'counts': [3196, 5065, 4206, 4437, 3520, 10115, 12322, 5708, 12760, 2509, 1230, 4549, 128, 1769, 5524, 1867, 5238, 11775, 335, 18367, 6106, 8426, 10345, 3920, 1065, 12314, 2233, 2747, 1636, 17, 3567, 13822], 'mean': 5650.5625, 'std': 4700.945676566818, 'min': 17, 'max': 18367, 'skew_ratio': 1080.4117647058824}\n",
            "{'counts': [90409, 90409], 'mean': 90409.0, 'std': 0.0, 'min': 90409, 'max': 90409, 'skew_ratio': 1.0}\n"
          ]
        }
      ],
      "source": [
        "print(get_partition_stats(hybrid_partition_df))\n",
        "print(get_partition_stats(random_partition_df))"
      ]
    },
    {
      "cell_type": "code",
      "execution_count": null,
      "metadata": {
        "id": "eo0Wm9Ph6iml"
      },
      "outputs": [],
      "source": [
        "# print(get_partition_stats(df_time_part_rdd))"
      ]
    },
    {
      "cell_type": "markdown",
      "metadata": {
        "id": "EgKphv-zUwvF"
      },
      "source": [
        "Visualize partition balance"
      ]
    },
    {
      "cell_type": "code",
      "execution_count": null,
      "metadata": {
        "id": "u_5zWnZUUzAP"
      },
      "outputs": [],
      "source": [
        "df_vis = hybrid_partition_df.withColumn(\"partition_id\", spark_partition_id())\n",
        "partition_counts = df_vis.groupBy(\"partition_id\").count().orderBy(\"partition_id\")\n",
        "#to pandas\n",
        "pdf_vis = partition_counts.toPandas()"
      ]
    },
    {
      "cell_type": "code",
      "execution_count": null,
      "metadata": {
        "id": "IbN6QVTkpHD3"
      },
      "outputs": [],
      "source": [
        "import matplotlib.pyplot as plt\n",
        "import seaborn as sns\n",
        "\n",
        "plt.figure(figsize=(10, 6))\n",
        "sns.barplot(data=pdf_vis, x=\"partition_id\", y=\"count\", palette=\"viridis\")\n",
        "plt.title(\"Row Distribution Across Spark Partitions\")\n",
        "plt.xlabel(\"Partition ID\")\n",
        "plt.ylabel(\"Number of Rows\")\n",
        "plt.xticks(rotation=45)\n",
        "plt.tight_layout()\n",
        "plt.show()\n"
      ]
    },
    {
      "cell_type": "markdown",
      "metadata": {
        "id": "pAc4tl4UXkWL"
      },
      "source": [
        "# Section 4: ML Pipeline\n",
        "\n",
        "Note: We re-ran the same model across combinations of different partitioning and sampling strategies to compare their impact on performance. Although individual results for each configuration cant be shown in this notebook, we conducted several experiments in a separate notebook and included only the final working code here for clarity and conciseness\n",
        "\n",
        "Assigned Team Member: Muneeb , Abu Qais , Harsh Moradiya , Mohd Ali Tahir"
      ]
    },
    {
      "cell_type": "markdown",
      "metadata": {
        "id": "a3Vnslptacdn"
      },
      "source": [
        "1: Define features"
      ]
    },
    {
      "cell_type": "markdown",
      "metadata": {
        "id": "b6EiyAjlek1y"
      },
      "source": [
        "This code identifies the feature columns to be used for modeling by excluding non-feature and categorical metadata columns. It then adds only the indexed versions of categorical variables for use in training.\n",
        "This list will be used to train the model.\n",
        "\n"
      ]
    },
    {
      "cell_type": "code",
      "execution_count": null,
      "metadata": {
        "colab": {
          "base_uri": "https://localhost:8080/"
        },
        "id": "C5rZwcHaaLce",
        "outputId": "fdc9e66e-aa90-4453-b480-803d958271f9"
      },
      "outputs": [
        {
          "output_type": "stream",
          "name": "stdout",
          "text": [
            "['time_in_hospital', 'num_lab_procedures', 'num_procedures', 'num_medications', 'number_outpatient', 'number_emergency', 'number_inpatient', 'number_diagnoses', 'race_index', 'gender_index', 'age_index', 'diag_1_grouped_index', 'diag_2_grouped_index', 'diag_3_grouped_index', 'change_index', 'diabetesMed_index', 'metformin_index', 'max_glu_serum_index', 'A1Cresult_index', 'repaglinide_index', 'nateglinide_index', 'chlorpropamide_index', 'glimepiride_index', 'acetohexamide_index', 'glipizide_index', 'glyburide_index', 'tolbutamide_index', 'pioglitazone_index', 'rosiglitazone_index', 'acarbose_index', 'miglitol_index', 'troglitazone_index', 'tolazamide_index', 'examide_index', 'citoglipton_index', 'insulin_index', 'glyburide-metformin_index', 'glipizide-metformin_index', 'glimepiride-pioglitazone_index', 'metformin-rosiglitazone_index', 'metformin-pioglitazone_index']\n"
          ]
        }
      ],
      "source": [
        "non_feature_cols = ['target', 'partition_key', 'time_bucket', 'medication_bucket', 'diagnosis_bucket'] + categorical_columns\n",
        "feature_cols = [col for col in hybrid_partition_df.columns if col not in non_feature_cols]\n",
        "feature_cols += [f\"{col}_index\" for col in categorical_columns]  # only indexed categoricals!\n",
        "\n",
        "print(feature_cols)"
      ]
    },
    {
      "cell_type": "markdown",
      "metadata": {
        "id": "Kx_ghueDaipt"
      },
      "source": [
        "2: Assemble Features"
      ]
    },
    {
      "cell_type": "markdown",
      "metadata": {
        "id": "Aj5KBWQ1e6Zw"
      },
      "source": [
        "Using VectorAssembler to take all feature columns and put them into one single vector column called 'features', which is what Spark models need to work properly"
      ]
    },
    {
      "cell_type": "code",
      "execution_count": null,
      "metadata": {
        "id": "K6WIHxRXakj0"
      },
      "outputs": [],
      "source": [
        "assembler = VectorAssembler(\n",
        "    inputCols=feature_cols,\n",
        "    outputCol=\"features\"\n",
        ")"
      ]
    },
    {
      "cell_type": "markdown",
      "metadata": {
        "id": "AjWhe3K7aoVG"
      },
      "source": [
        "3: GBT Classifier"
      ]
    },
    {
      "cell_type": "markdown",
      "metadata": {
        "id": "YquKxg8vfNWA"
      },
      "source": [
        "Setting up a Gradient-Boosted Trees classifier using Spark.\n",
        "It will look at all the features and try to predict whether a patient will be readmitted in <30 days (target = 1).\n",
        "Building 50 trees, each one up to 5 levels deep, and I’m taking small steps (learning rate 0.1) to avoid overfitting."
      ]
    },
    {
      "cell_type": "code",
      "execution_count": null,
      "metadata": {
        "id": "CWC4bbWUarmi"
      },
      "outputs": [],
      "source": [
        "gbt = GBTClassifier(\n",
        "    labelCol=\"target\",\n",
        "    featuresCol=\"features\",\n",
        "    maxIter=50,\n",
        "    maxDepth=5,\n",
        "    stepSize=0.1,\n",
        "    seed=42\n",
        ")"
      ]
    },
    {
      "cell_type": "markdown",
      "metadata": {
        "id": "jOfrZBfga3bK"
      },
      "source": [
        "4: pipeline\n",
        "\n",
        "Spark ML pipeline that applies categorical indexing, assembles feature vectors, and trains a Gradient Boosted Tree model in sequence."
      ]
    },
    {
      "cell_type": "code",
      "execution_count": null,
      "metadata": {
        "id": "xU3vmOvXa42-"
      },
      "outputs": [],
      "source": [
        "pipeline = Pipeline(stages=indexers + [assembler, gbt])"
      ]
    },
    {
      "cell_type": "markdown",
      "metadata": {
        "id": "qc13vsR7a9gv"
      },
      "source": [
        "5: Train test split"
      ]
    },
    {
      "cell_type": "markdown",
      "metadata": {
        "id": "rXo500QagEL3"
      },
      "source": [
        "split  data into 80% training and 20% testing.\n",
        "Then training the full pipeline — which includes preprocessing and the model — on the training data.\n",
        "Finally, used it to make predictions on the test data to see how well it works."
      ]
    },
    {
      "cell_type": "code",
      "execution_count": null,
      "metadata": {
        "id": "AAGPrs_Bab3v"
      },
      "outputs": [],
      "source": [
        "train_data, test_data = hybrid_partition_df.randomSplit([0.8, 0.2], seed=42)\n",
        "\n",
        "t0 = time()\n",
        "model = pipeline.fit(train_data)\n",
        "train_time = time() - t0\n",
        "predictions = model.transform(test_data)"
      ]
    },
    {
      "cell_type": "markdown",
      "metadata": {
        "id": "4wxJChTna6rY"
      },
      "source": [
        "# **Section 5: Model Evaluation and Visualization**\n",
        "\n",
        "Assigned team member: Harsh Moradiya, Mohd Ali Tahir"
      ]
    },
    {
      "cell_type": "markdown",
      "metadata": {
        "id": "Nt59OgsSgUxs"
      },
      "source": [
        "Evaluating the trained model using the ROC AUC metric for binary classification and prints the score along with the training time to assess model performance and efficiency."
      ]
    },
    {
      "cell_type": "code",
      "execution_count": null,
      "metadata": {
        "colab": {
          "base_uri": "https://localhost:8080/"
        },
        "id": "AXFocuIma7gP",
        "outputId": "ed329ae8-5835-4e7f-d413-4cfea9df44a1"
      },
      "outputs": [
        {
          "output_type": "stream",
          "name": "stdout",
          "text": [
            "GBT ROC AUC: 0.875 'train_time': 253.3330192565918\n"
          ]
        }
      ],
      "source": [
        "evaluator = BinaryClassificationEvaluator(labelCol=\"target\", metricName=\"areaUnderROC\")\n",
        "auc = evaluator.evaluate(predictions)\n",
        "print(f\"GBT ROC AUC: {auc:.3f} 'train_time': {train_time}\")"
      ]
    },
    {
      "cell_type": "markdown",
      "metadata": {
        "id": "-1X2R0SWbLsi"
      },
      "source": [
        "**Visualize**"
      ]
    },
    {
      "cell_type": "code",
      "execution_count": null,
      "metadata": {
        "id": "hipoz_h7stcG"
      },
      "outputs": [],
      "source": [
        "pdf_model = predictions.select(\"target\", \"prediction\").toPandas()"
      ]
    },
    {
      "cell_type": "code",
      "execution_count": null,
      "metadata": {
        "id": "Vb2N3T3DsZs7"
      },
      "outputs": [],
      "source": [
        "# precision, recall, f1-score for each class\n",
        "print(\"Classification Report:\\n\")\n",
        "print(classification_report(pdf_model[\"target\"], pdf_model[\"prediction\"]))"
      ]
    },
    {
      "cell_type": "markdown",
      "metadata": {
        "id": "EsoZpUuTg-Hd"
      },
      "source": [
        "Confusion Matrix"
      ]
    },
    {
      "cell_type": "code",
      "execution_count": null,
      "metadata": {
        "colab": {
          "base_uri": "https://localhost:8080/",
          "height": 507
        },
        "id": "HIi0zrLUbPJK",
        "outputId": "2cad2745-0485-4939-b5bc-7cc0de00c27c"
      },
      "outputs": [
        {
          "output_type": "display_data",
          "data": {
            "text/plain": [
              "<Figure size 600x500 with 2 Axes>"
            ],
            "image/png": "[encoded data removed]"
          },
          "metadata": {}
        }
      ],
      "source": [
        "#confusion matrix\n",
        "cm = confusion_matrix(pdf_model[\"target\"], pdf_model[\"prediction\"], labels=[1, 0])\n",
        "\n",
        "# Plot\n",
        "plt.figure(figsize=(6,5))\n",
        "sns.heatmap(cm, annot=True, fmt=\"d\", cmap=\"Oranges\",\n",
        "            xticklabels=[\"Pred 1\", \"Pred 0\"],\n",
        "            yticklabels=[\"Actual 1\", \"Actual 0\"])\n",
        "plt.title(\"Confusion Matrix\")\n",
        "plt.xlabel(\"Predicted Label\")\n",
        "plt.ylabel(\"True Label\")\n",
        "plt.tight_layout()\n",
        "plt.show()"
      ]
    },
    {
      "cell_type": "markdown",
      "metadata": {
        "id": "_fvhcLbRtfvw"
      },
      "source": [
        "ROC curve\n",
        "\n",
        "computes and plots the ROC curve for the GBT classifier by extracting the probability of the positive class, calculating true/false positive rates, and displaying the AUC to visualize model discrimination performance."
      ]
    },
    {
      "cell_type": "code",
      "execution_count": null,
      "metadata": {
        "colab": {
          "base_uri": "https://localhost:8080/",
          "height": 507
        },
        "id": "wvRg4DGktg1V",
        "outputId": "4f94c907-b690-4e7e-e460-425f10831c8a"
      },
      "outputs": [
        {
          "output_type": "display_data",
          "data": {
            "text/plain": [
              "<Figure size 600x500 with 1 Axes>"
            ],
            "image/png": "[encoded data removed]"
          },
          "metadata": {}
        }
      ],
      "source": [
        "pdf_model_roc = predictions.select(\"target\", \"prediction\", \"probability\").toPandas()\n",
        "\n",
        "# Extract class 1 probability from the vector\n",
        "pdf_model_roc[\"prob_positive\"] = pdf_model_roc[\"probability\"].apply(lambda v: float(v[1]))\n",
        "fpr, tpr, _ = roc_curve(pdf_model_roc[\"target\"], pdf_model_roc[\"prob_positive\"])\n",
        "# roc_auc = auc(fpr, tpr)\n",
        "roc_auc = roc_auc_score(pdf_model_roc[\"target\"], pdf_model_roc[\"prob_positive\"]) # Use roc_auc_score instead of auc\n",
        "# Plot\n",
        "plt.figure(figsize=(6,5))\n",
        "plt.plot(fpr, tpr, color='darkorange', lw=2, label=f\"ROC curve (AUC = {roc_auc:.3f})\")\n",
        "plt.plot([0, 1], [0, 1], color='gray', linestyle='--')\n",
        "plt.xlabel(\"False Positive Rate\")\n",
        "plt.ylabel(\"True Positive Rate\")\n",
        "plt.title(\"ROC Curve for GBT Classifier\")\n",
        "plt.legend(loc=\"lower right\")\n",
        "plt.tight_layout()\n",
        "plt.show()"
      ]
    }
  ],
  "metadata": {
    "colab": {
      "provenance": [],
      "include_colab_link": true
    },
    "kernelspec": {
      "display_name": "Python 3",
      "name": "python3"
    },
    "language_info": {
      "name": "python"
    }
  },
  "nbformat": 4,
  "nbformat_minor": 0
}